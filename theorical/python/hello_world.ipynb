{
 "metadata": {
  "name": "",
  "signature": "sha256:27f2ff526c6a913d0a71bfd24df51561d46f8192250734d0dc655c44aad6455e"
 },
 "nbformat": 3,
 "nbformat_minor": 0,
 "worksheets": [
  {
   "cells": [
    {
     "cell_type": "markdown",
     "metadata": {},
     "source": [
      "x"
     ]
    },
    {
     "cell_type": "markdown",
     "metadata": {},
     "source": [
      "*AMU :: Polytech Biotech 3A :: JGB53D :: 2014/2015 :: Jacques van\n",
      "Helden, Denis Puthier, Nicolas Terrapon*\n",
      "\n",
      "------------------------------------------------------------------------\n",
      "\n",
      "Contenu\n",
      "-------\n",
      "\n",
      "1.  [Python](#python)\n",
      "2.  [Objectifs du TD](#objectifs)\n",
      "3.  [Ouvrir une session](#session)\n",
      "4.  [Hello world](#firstpgrm)\n",
      "5.  [Cr\u00e9ation de variables](#variables)\n",
      "6.  [En Python, les variables sont associ\u00e9es \u00e0 des\n",
      "    m\u00e9thodes](#basicobjects)\n",
      "7.  [Listes et tuples](#lists)\n",
      "8.  [Dictionnaires](#dict)\n",
      "9.  [Pour aller plus loin](#plus)\n",
      "10. [](#)\n",
      "\n",
      "[\\[Retour \u00e0 la table des mati\u00e8res\\]](#contenu)\n",
      "\n",
      "------------------------------------------------------------------------\n",
      "\n",
      "Python ?\n",
      "--------\n",
      "\n",
      "Le langage de programmation Python a \u00e9t\u00e9 d\u00e9velopp\u00e9 par Guido van Rossum.\n",
      "Sa premi\u00e8re version date de 1991. Python fonctionne sous Windows,\n",
      "Linux/Unix et Mac OS X. Le langage Python est sous licence open-source\n",
      "ce qui le rend utilisable gratuitement et distribuable m\u00eame pour des\n",
      "applications commerciales. Python a \u00e9t\u00e9 developp\u00e9 afin de procurer un\n",
      "langage tr\u00e8s lisible \u00e0 la communaut\u00e9. L'id\u00e9e est de proposer un langage\n",
      "tr\u00e8s proche du langage naturel et \u00e9loign\u00e9 de certains langages dont le\n",
      "code peut rapidement devenir obscur (\"obfuscating code\"). Par ailleurs\n",
      "le but de python est de proposer un langage simple, standardis\u00e9 dont\n",
      "l'une des devise est: *\"There should be one \u2014 and preferably only one \u2014\n",
      "obvious way to do it\"*.\n",
      "\n",
      "Python est un langage puissant, assez facile d'apprentissage et qui\n",
      "propose une palette d'outils tr\u00e8s large. Il peut \u00eatre notamment utilis\u00e9\n",
      "pour:\n",
      "\n",
      "-   Le d\u00e9veloppement de scripts (e.g convertisseurs de formats pour des\n",
      "    fichiers de donn\u00e9es).\n",
      "-   Le d\u00e9veloppement d'applications en lignes de commandes.\n",
      "-   Le d\u00e9veloppement d'applications web.\n",
      "-   Le d\u00e9veloppement de d'interfaces graphiques (\"Graphical User\n",
      "    Interfaces\", GUIs).\n",
      "-   Communiquer avec des bases de donn\u00e9es.\n",
      "-   L'analyse de donn\u00e9es num\u00e9riques (issues des domaines de la\n",
      "    bioinformatique, physique,...).\n",
      "-   ...\n",
      "\n",
      "[\\[Retour \u00e0 la table des mati\u00e8res\\]](#contenu)\n",
      "\n",
      "------------------------------------------------------------------------\n",
      "\n",
      "Objectifs du TD\n",
      "---------------\n",
      "\n",
      "Au fil de ce TD, nous allons pr\u00e9senter un certain nombre de structures\n",
      "de donn\u00e9es. Ces structures (variables, listes, dictionnaires,...)\n",
      "permettent d'organiser l'information en m\u00e9moire et nous permettront,\n",
      "lors les TDs suivants, de r\u00e9aliser des programmes s'appuyant sur\n",
      "celles-ci.\n",
      "\n",
      "-   [Ouvrir une session](#session)\n",
      "-   [Hello world](#firstpgrm)\n",
      "-   [Manupilation de variables](#variables)\n",
      "-   [Listes et tuples](#lists)\n",
      "-   [Dictionnaires](#dico)\n",
      "-   Pour aller plus loin\n",
      "\n",
      "[\\[Retour \u00e0 la table des mati\u00e8res\\]](#contenu)\n",
      "\n",
      "------------------------------------------------------------------------\n",
      "\n",
      "Ouvrir une session\n",
      "------------------\n",
      "\n",
      "### D\u00e9marrez un terminal\n",
      "\n",
      "<div class=\"protocol\">\n",
      "\n",
      "1.  Connectez vous \u00e0 l'ordinateur avec votre nom d'utilisateur et mot\n",
      "    de passe.\n",
      "2.  Ouvrez un terminal (*cf* TD01).\n",
      "\n",
      "</div>\n",
      "\n",
      "Dans le terminal, tapez la commande suivante qui devrait vous permettre\n",
      "de d\u00e9marrer un interpr\u00e9teur Python (ici pour la version 3 du langage\n",
      "python).\n"
     ]
    },
    {
     "cell_type": "raw",
     "metadata": {},
     "source": [
      "ipython3 # D\u00e9marrage de l'interpr\u00e9teur python. "
     ]
    },
    {
     "cell_type": "markdown",
     "metadata": {},
     "source": [
      "Le programme <span class=\"program\">IPython</span> est un <span\n",
      "class=\"concept\">interpr\u00e9teur</span> python, ce qui signifie qu'il\n",
      "comprendra les instructions Python que vous lui soumettez et qu'il les\n",
      "ex\u00e9cutera l'une apr\u00e8s l'autre. Ceci permet de tester de simples\n",
      "commandes, sans n\u00e9cessiter de les sauvegarder dans un fichier.\n",
      "\n",
      "[\\[Retour \u00e0 la table des mati\u00e8res\\]](#contenu)\n",
      "\n",
      "------------------------------------------------------------------------"
     ]
    },
    {
     "cell_type": "markdown",
     "metadata": {},
     "source": [
      "\n",
      "Hello world\n",
      "-----------\n",
      "\n",
      "Comme premier contact avec un langage de programmation, la coutume est\n",
      "de cr\u00e9er un programme qui imprime \u00e0 l'\u00e9cran le message *\"Hello world\"*.\n",
      "Nous ne d\u00e9rogerons pas \u00e0 l'usage.\n",
      "\n",
      "Copiez l'instruction suivante dans l'interpr\u00e9teur.\n",
      "\n",
      "\n"
     ]
    },
    {
     "cell_type": "code",
     "collapsed": false,
     "input": [
      "# On demande \u00e0 python de dire  \"Hello world\"\n",
      "print(\"Hello world\")"
     ],
     "language": "python",
     "metadata": {},
     "outputs": [
      {
       "output_type": "stream",
       "stream": "stdout",
       "text": [
        "Hello world\n"
       ]
      }
     ],
     "prompt_number": 3
    },
    {
     "cell_type": "markdown",
     "metadata": {},
     "source": [
      "\n",
      "\n",
      "[\\[Retour \u00e0 la table des mati\u00e8res\\]](#contenu)\n",
      "\n",
      "------------------------------------------------------------------------"
     ]
    },
    {
     "cell_type": "markdown",
     "metadata": {},
     "source": [
      "Manipulation de variables\n",
      "-------------------------\n",
      "\n",
      "En informatique, les variables associent un nom (l'identifiant) \u00e0 une\n",
      "valeur. Cr\u00e9er une variable est tr\u00e8s simple, il suffira d'utiliser\n",
      "l'op\u00e9rateur d'affectation '=' (aussi appel\u00e9 op\u00e9rateur d'assignation).\n",
      "\n",
      "En Python, les variables sont <span class=\"concept\">typ\u00e9es</span>,\n",
      "c'est-\u00e0-dire qu'une variable pr\u00e9sentera des comportements diff\u00e9rents en\n",
      "fonction des types d'information qu'elle contient (nombres entiers,\n",
      "nombres d\u00e9cimaux, cha\u00eenes de caract\u00e8res, ...).\n",
      "\n",
      "### Variables num\u00e9riques\n",
      "\n",
      "Copiez-collez les instructions suivantes dans iPython, ligne par ligne.\n",
      "Analysez les r\u00e9sulats et tentez de comprendre la fa\u00e7on dont\n",
      "l'interpr\u00e9teur traite ces commandes. Certains r\u00e9sultats seront parfois\n",
      "un peu d\u00e9routants pour les d\u00e9butants, mais leur logique sera discut\u00e9e\n",
      "durant les TD, et l'usage du langage s'\u00e9clairera au fil de la\n",
      "progression du cours.\n",
      "\n"
     ]
    },
    {
     "cell_type": "code",
     "collapsed": false,
     "input": [
      "# Note: tout ce qui se trouve \u00e0 droite du caract\u00e8re '#' \n",
      "# est un commentaire (non interpr\u00e9t\u00e9 par python)\n",
      "\n",
      "# On affecte la valeur '2' \u00e0 une variable qu'on appelle 'a'\n",
      "a = 2\n",
      "\n",
      "# Quel est la valeur contenue dans a ?\n",
      "a\n",
      "\n",
      "# Quel est le type de cette variable ?\n",
      "type(a) # R\u00e9ponse: int (integer). La variable contient un nombre entier.\n",
      "\n",
      "# On affecte la valeur 2.0 \u00e0 a\n",
      "a = 2.0\n",
      "\n",
      "# Quel est le type de cette variable ?\n",
      "type(a) # float (float). Un nombre \u00e0 virgule flottante (i.e un r\u00e9el).\n",
      "\n",
      "# On affecte la valeur 4 \u00e0 b\n",
      "b = 4\n",
      "\n",
      "# Quel est la valeur de b ?\n",
      "b\n",
      "\n",
      "# c contient la somme des valeurs courantes de  a et b \n",
      "c = a + b\n",
      "\n",
      "# Quelle est la valeur de  c ? Quel est le type de c ?\n",
      "c\n",
      "type(c)\n",
      "\n",
      "# Rem\u00e9morons-nous les valeurs des variables (a, b, c)\n",
      "print (a,b,c)\n",
      "\n"
     ],
     "language": "python",
     "metadata": {},
     "outputs": [
      {
       "output_type": "stream",
       "stream": "stdout",
       "text": [
        "2.0 4 6.0\n"
       ]
      }
     ],
     "prompt_number": 4
    },
    {
     "cell_type": "markdown",
     "metadata": {},
     "source": [
      "Dans l'exemple pr\u00e9c\u00e9dent, nous avons assign\u00e9 des valeurs aux variables\n",
      "<span class=\"variable\">a</span> (`a=2.0`) et <span\n",
      "class=\"variable\">b</span> (`b=4`), puis assign\u00e9 \u00e0 la variable <span\n",
      "class=\"variable\">c</span> le r\u00e9sultat d'un calcul (`c=a+b`).\n",
      "Conform\u00e9ment \u00e0 nos attentes, la variable <span class=\"variable\">c</span>\n",
      "contient le r\u00e9sultat de la somme de <span class=\"variable\">a</span> et\n",
      "<span class=\"variable\">b</span>.\n",
      "\n",
      "Que ce passe-t-il si on change la valeur de <span\n",
      "class=\"variable\">b</span> ?\n"
     ]
    },
    {
     "cell_type": "code",
     "collapsed": false,
     "input": [
      "b = 10 \n",
      "print(a,b,c) # expliquez"
     ],
     "language": "python",
     "metadata": {},
     "outputs": [
      {
       "output_type": "stream",
       "stream": "stdout",
       "text": [
        "2.0 10 6.0\n"
       ]
      }
     ],
     "prompt_number": 6
    },
    {
     "cell_type": "markdown",
     "metadata": {},
     "source": [
      "Le fait de changer la valeur de <span class=\"variable\">b</span> n'a pas\n",
      "affect\u00e9 le contenu de la variable <span class=\"variable\">c</span>. En\n",
      "math\u00e9matique, quand on \u00e9crit une \u00e9quation (par exemple *c = a + b*, la\n",
      "relation ainsi d\u00e9finie prend valeur de v\u00e9rit\u00e9 pour l'ensemble des\n",
      "d\u00e9veloppements ult\u00e9rieurs. Il en va autrement en programmation: l'<span\n",
      "class=\"concept\">assignation</span> `c=a+b` a pour effet de cr\u00e9er ou\n",
      "modifier le contenu d'un espace de m\u00e9moire. Si l'on change ensuite le\n",
      "contenu d'une des variables impliqu\u00e9es dans la relation (`b=10`), la\n",
      "variable <span class=\"variable\">c</span> n'a pas de raison de changer\n",
      "tant qu'on ne l'a pas r\u00e9-assign\u00e9e."
     ]
    },
    {
     "cell_type": "code",
     "collapsed": false,
     "input": [
      "# Re-calculer la somme des valeurs de a et b, \n",
      "# et mettre \u00e0 jour le contenu de la variable c\n",
      "c = a + b\n",
      "\n",
      "# la valeur de c correspond maintenant \u00e0 la somme de a et b\n",
      "print(a,b,c)"
     ],
     "language": "python",
     "metadata": {},
     "outputs": [
      {
       "output_type": "stream",
       "stream": "stdout",
       "text": [
        "2.0 10 12.0\n"
       ]
      }
     ],
     "prompt_number": 8
    },
    {
     "cell_type": "markdown",
     "metadata": {},
     "source": [
      "Ce type de notation permet notamment d'<span\n",
      "class=\"concept\">incr\u00e9menter</span> le contenu d'une variable, en\n",
      "ajoutant une valeur (par exemple la constante 1) \u00e0 son propre contenu."
     ]
    },
    {
     "cell_type": "code",
     "collapsed": false,
     "input": [
      "d = 0\n",
      "print(d)\n",
      "\n",
      "d = d+1\n",
      "print(d)\n",
      "\n",
      "d = d+1\n",
      "print(d)\n",
      "\n",
      "d = d+1\n",
      "print(d)"
     ],
     "language": "python",
     "metadata": {},
     "outputs": [
      {
       "output_type": "stream",
       "stream": "stdout",
       "text": [
        "0\n",
        "1\n",
        "2\n",
        "3\n"
       ]
      }
     ],
     "prompt_number": 9
    },
    {
     "cell_type": "markdown",
     "metadata": {},
     "source": [
      "On constate, ici encore, la **diff\u00e9rence entre la formulation math\u00e9matique\n",
      "d'une \u00e9quation et l'assignation d'une variable en programmation**. En\n",
      "math\u00e9matiques, l'\u00e9quation *d=d+1* est fausse, puisqu'il est impossible\n",
      "qu'un nombre soit \u00e9gal \u00e0 la somme de sa valeur et du nombre 1. En\n",
      "informatique, l'instruction `d=d+1` est parfaitement valide, elle\n",
      "indique qu'il faut incr\u00e9menter d'une unit\u00e9 le contenu de la variable d.\n",
      "\n",
      "#### Calcul sur des variables\n",
      "\n",
      "Les op\u00e9rateurs math\u00e9matiques classiques peuvent \u00eatre utilis\u00e9s sur des\n",
      "entiers et flottants."
     ]
    },
    {
     "cell_type": "code",
     "collapsed": false,
     "input": [
      "a = 4.0\n",
      "type(a) # v\u00e9rifions le type de la variable 'a'. Elle contient un nombre d\u00e9cimal"
     ],
     "language": "python",
     "metadata": {},
     "outputs": [
      {
       "metadata": {},
       "output_type": "pyout",
       "prompt_number": 14,
       "text": [
        "float"
       ]
      }
     ],
     "prompt_number": 14
    },
    {
     "cell_type": "code",
     "collapsed": false,
     "input": [
      "a/3"
     ],
     "language": "python",
     "metadata": {},
     "outputs": [
      {
       "metadata": {},
       "output_type": "pyout",
       "prompt_number": 17,
       "text": [
        "1.3333333333333333"
       ]
      }
     ],
     "prompt_number": 17
    },
    {
     "cell_type": "code",
     "collapsed": false,
     "input": [
      "type(a*3)\n"
     ],
     "language": "python",
     "metadata": {},
     "outputs": [
      {
       "metadata": {},
       "output_type": "pyout",
       "prompt_number": 15,
       "text": [
        "float"
       ]
      }
     ],
     "prompt_number": 15
    },
    {
     "cell_type": "code",
     "collapsed": false,
     "input": [
      "# On peut donc utiliser IPython comme une calculatrice\n",
      "3*(2+4)"
     ],
     "language": "python",
     "metadata": {},
     "outputs": [
      {
       "metadata": {},
       "output_type": "pyout",
       "prompt_number": 16,
       "text": [
        "18"
       ]
      }
     ],
     "prompt_number": 16
    },
    {
     "cell_type": "markdown",
     "metadata": {},
     "source": [
      "<div class=\"exo\">\n",
      "\n",
      "Effectuez les exercices suivants:\n",
      "\n",
      "\n",
      "-   Cr\u00e9ez une variable <span class=\"variable\">i</span> et assignez lui\n",
      "    la valeur 100.\n",
      "-   Quel est le type de <span class=\"variable\">i</span>.\n",
      "-   Cr\u00e9ez une variable <span class=\"variable\">j</span> et assignez lui\n",
      "    la valeur 5.0.\n",
      "-   Quel est le type de <span class=\"variable\">j</span> ?\n",
      "-   Cr\u00e9ez la variable k qui contient la somme de <span\n",
      "    class=\"variable\">i</span> et <span class=\"variable\">j</span>.\n",
      "-   Quel est le type de <span class=\"variable\">k</span> ?\n",
      "\n",
      "\n",
      "</div>\n",
      "\n",
      "\n",
      "**Solution**"
     ]
    },
    {
     "cell_type": "code",
     "collapsed": false,
     "input": [
      "i = 100     # on assigne 100 \u00e0 i\n",
      "type(i)     # Le type de i (int)"
     ],
     "language": "python",
     "metadata": {},
     "outputs": [
      {
       "metadata": {},
       "output_type": "pyout",
       "prompt_number": 18,
       "text": [
        "int"
       ]
      }
     ],
     "prompt_number": 18
    },
    {
     "cell_type": "code",
     "collapsed": false,
     "input": [
      "j = 5.0     # j vaut 5.0    \n",
      "type(j)     # j est un float."
     ],
     "language": "python",
     "metadata": {},
     "outputs": [
      {
       "metadata": {},
       "output_type": "pyout",
       "prompt_number": 19,
       "text": [
        "float"
       ]
      }
     ],
     "prompt_number": 19
    },
    {
     "cell_type": "code",
     "collapsed": false,
     "input": [
      "k = i + j   # k prend la somme\n",
      "type(k)     # k est un float"
     ],
     "language": "python",
     "metadata": {},
     "outputs": [
      {
       "metadata": {},
       "output_type": "pyout",
       "prompt_number": 20,
       "text": [
        "float"
       ]
      }
     ],
     "prompt_number": 20
    },
    {
     "cell_type": "markdown",
     "metadata": {},
     "source": [
      "### Variables de type 'cha\u00eenes de caract\u00e8res'\n",
      "\n",
      "#### Assignation d'une variable \u00e0 une cha\u00eene de caract\u00e8res\n",
      "\n",
      "Copiez-collez les instructions suivantes dans IPython, ligne par ligne,\n",
      "et tentez d'interpr\u00e9ter le r\u00e9sultat.\n",
      "\n"
     ]
    },
    {
     "cell_type": "code",
     "collapsed": false,
     "input": [
      "# On peut affecter une cha\u00eene de caract\u00e8res \u00e0 une variable\n",
      "# Cette variable est alors de type \"cha\u00eene de caract\u00e8res\". \n",
      "nom_de_fichier = \"refGene\"\n",
      "type(nom_de_fichier) # str (string). Une cha\u00eene de charact\u00e8res.\n"
     ],
     "language": "python",
     "metadata": {},
     "outputs": [
      {
       "metadata": {},
       "output_type": "pyout",
       "prompt_number": 23,
       "text": [
        "str"
       ]
      }
     ],
     "prompt_number": 23
    },
    {
     "cell_type": "code",
     "collapsed": false,
     "input": [
      "# Que contient la variable nom_de_fichier ? \n",
      "nom_de_fichier"
     ],
     "language": "python",
     "metadata": {},
     "outputs": [
      {
       "metadata": {},
       "output_type": "pyout",
       "prompt_number": 24,
       "text": [
        "'refGene'"
       ]
      }
     ],
     "prompt_number": 24
    },
    {
     "cell_type": "markdown",
     "metadata": {},
     "source": [
      "Notez qu'en tapant simplement le nom de la variable comme ci-dessus,\n",
      "Python affiche son contenu entre guillemets simple ('apostrophes'), pour\n",
      "indiquer qu'il s'agit d'une **cha\u00eene de caract\u00e8res**.\n",
      "\n",
      "On peut afficher le contenu de la variable en utilisant la fonction\n",
      "Python **print()**. Notez que cette fonction affiche le contenu sans\n",
      "l'entourer de guillemets."
     ]
    },
    {
     "cell_type": "code",
     "collapsed": false,
     "input": [
      "# Imprimer le contenu de la variable nom_de_fichier\n",
      "print(nom_de_fichier)\n",
      "\n",
      "# Notez que la commande suivante produit une erreur.\n",
      "nom_de_fichier = refGene  \n",
      "# Comment expliquez-vous cette erreur ?"
     ],
     "language": "python",
     "metadata": {},
     "outputs": [
      {
       "output_type": "stream",
       "stream": "stdout",
       "text": [
        "refGene\n"
       ]
      },
      {
       "ename": "NameError",
       "evalue": "name 'refGene' is not defined",
       "output_type": "pyerr",
       "traceback": [
        "\u001b[0;31m---------------------------------------------------------------------------\u001b[0m\n\u001b[0;31mNameError\u001b[0m                                 Traceback (most recent call last)",
        "\u001b[0;32m<ipython-input-25-2862ccca514c>\u001b[0m in \u001b[0;36m<module>\u001b[0;34m()\u001b[0m\n\u001b[1;32m      3\u001b[0m \u001b[0;34m\u001b[0m\u001b[0m\n\u001b[1;32m      4\u001b[0m \u001b[0;31m# Notez que la commande suivante produit une erreur.\u001b[0m\u001b[0;34m\u001b[0m\u001b[0;34m\u001b[0m\u001b[0m\n\u001b[0;32m----> 5\u001b[0;31m \u001b[0mnom_de_fichier\u001b[0m \u001b[0;34m=\u001b[0m \u001b[0mrefGene\u001b[0m\u001b[0;34m\u001b[0m\u001b[0m\n\u001b[0m\u001b[1;32m      6\u001b[0m \u001b[0;31m# Comment expliquez-vous cette erreur ?\u001b[0m\u001b[0;34m\u001b[0m\u001b[0;34m\u001b[0m\u001b[0m\n",
        "\u001b[0;31mNameError\u001b[0m: name 'refGene' is not defined"
       ]
      }
     ],
     "prompt_number": 25
    },
    {
     "cell_type": "markdown",
     "metadata": {},
     "source": [
      "Dans le cas ci-dessus, nous avons demand\u00e9 \u00e0 Python de copier le contenu\n",
      "d'une variable appel\u00e9e refGene dans une autre variable appel\u00e9e\n",
      "nom\\_de\\_fichier. Cependant **il n'existe pas de variable nomm\u00e9e refGene**\n",
      "(puisque nous n'en avons pas d\u00e9fini).\n",
      "\n",
      "Ceci illustre un aspect important de la syntaxe: **pour sp\u00e9cifier le\n",
      "contenu d'une cha\u00eene de caract\u00e8res, il faut entourer ce contenu de\n",
      "d\u00e9limitateurs (guillemets simples ou doubles)**. Un mot sans d\u00e9limitateurs\n",
      "sera interpr\u00e9t\u00e9 comme nom de variable, et non comme cha\u00eene de caract\u00e8re.\n",
      "\n",
      "#### Concat\u00e9nation\n",
      "\n",
      "En Python, la concat\u00e9nation de cha\u00eenes de caract\u00e8res se fait tr\u00e8s\n",
      "simplement au moyen de l'op\u00e9rateur \"+\"."
     ]
    },
    {
     "cell_type": "code",
     "collapsed": false,
     "input": [
      "# On affecte la valeur \".txt\" \u00e0 une variable nomm\u00e9e 'extension'\n",
      "extension = \".txt\"\n",
      "\n",
      "# Quel est le contenu de la variable extension ? \n",
      "print(extension)"
     ],
     "language": "python",
     "metadata": {},
     "outputs": [
      {
       "output_type": "stream",
       "stream": "stdout",
       "text": [
        ".txt\n"
       ]
      }
     ],
     "prompt_number": 26
    },
    {
     "cell_type": "code",
     "collapsed": false,
     "input": [
      "# Quel est son type ?\n",
      "type(extension)\n"
     ],
     "language": "python",
     "metadata": {},
     "outputs": [
      {
       "metadata": {},
       "output_type": "pyout",
       "prompt_number": 27,
       "text": [
        "str"
       ]
      }
     ],
     "prompt_number": 27
    },
    {
     "cell_type": "code",
     "collapsed": false,
     "input": [
      "# On peut 'concat\u00e9ner' des cha\u00eenes de caract\u00e8res avec l'op\u00e9rateur +\n",
      "nom_complet = nom_de_fichier + extension\n",
      "print(nom_complet)\n"
     ],
     "language": "python",
     "metadata": {},
     "outputs": [
      {
       "output_type": "stream",
       "stream": "stdout",
       "text": [
        "refGene.txt\n"
       ]
      }
     ],
     "prompt_number": 28
    },
    {
     "cell_type": "code",
     "collapsed": false,
     "input": [
      "# Attention on ne peut concat\u00e9ner que des cha\u00eenes entre elle:\n",
      "a = 2.0\n",
      "type(a)"
     ],
     "language": "python",
     "metadata": {},
     "outputs": [
      {
       "metadata": {},
       "output_type": "pyout",
       "prompt_number": 29,
       "text": [
        "float"
       ]
      }
     ],
     "prompt_number": 29
    },
    {
     "cell_type": "code",
     "collapsed": false,
     "input": [
      "type(nom_de_fichier)"
     ],
     "language": "python",
     "metadata": {},
     "outputs": [
      {
       "metadata": {},
       "output_type": "pyout",
       "prompt_number": 30,
       "text": [
        "str"
       ]
      }
     ],
     "prompt_number": 30
    },
    {
     "cell_type": "code",
     "collapsed": false,
     "input": [
      "# Pour concat\u00e9ner nom_de_fichier et la variable a, il faut\n",
      "# convertir cette derni\u00e8re en cha\u00eene de caract\u00e8re:\n",
      "\n",
      "#nom_de_fichier + a # Quelle erreur est renvoy\u00e9e ?\n",
      "nom_de_fichier + str(a) # maintenant \u00e7a fonctionne\n"
     ],
     "language": "python",
     "metadata": {},
     "outputs": [
      {
       "metadata": {},
       "output_type": "pyout",
       "prompt_number": 33,
       "text": [
        "'refGene2.0'"
       ]
      }
     ],
     "prompt_number": 33
    },
    {
     "cell_type": "code",
     "collapsed": false,
     "input": [
      "# La fonction str() utilis\u00e9e ci-dessus a pour effet de\n",
      "# convertir une variable en une cha\u00eene de caract\u00e8re.\n",
      "str(27)"
     ],
     "language": "python",
     "metadata": {},
     "outputs": [
      {
       "metadata": {},
       "output_type": "pyout",
       "prompt_number": 32,
       "text": [
        "'27'"
       ]
      }
     ],
     "prompt_number": 32
    },
    {
     "cell_type": "markdown",
     "metadata": {},
     "source": [
      "Notez que Python affiche '27', avec des guillements, pour indiquer qu'il\n",
      "s'agit d'une cha\u00eene de caract\u00e8res.\n",
      "\n",
      "On peut r\u00e9p\u00e9ter des chaines en les multipliant par un entier."
     ]
    },
    {
     "cell_type": "code",
     "collapsed": false,
     "input": [
      "nom_de_fichier * 10"
     ],
     "language": "python",
     "metadata": {},
     "outputs": [
      {
       "metadata": {},
       "output_type": "pyout",
       "prompt_number": 34,
       "text": [
        "'refGenerefGenerefGenerefGenerefGenerefGenerefGenerefGenerefGenerefGene'"
       ]
      }
     ],
     "prompt_number": 34
    },
    {
     "cell_type": "code",
     "collapsed": false,
     "input": [
      "a = 3.0\n",
      "type(a) # Et pourquoi pas un entier ? Expliquez. \n",
      "nom_de_fichier * a # ne fonctionne pas car a n'est pas un entier."
     ],
     "language": "python",
     "metadata": {},
     "outputs": [
      {
       "ename": "TypeError",
       "evalue": "can't multiply sequence by non-int of type 'float'",
       "output_type": "pyerr",
       "traceback": [
        "\u001b[0;31m---------------------------------------------------------------------------\u001b[0m\n\u001b[0;31mTypeError\u001b[0m                                 Traceback (most recent call last)",
        "\u001b[0;32m<ipython-input-35-623f7eb6f39c>\u001b[0m in \u001b[0;36m<module>\u001b[0;34m()\u001b[0m\n\u001b[1;32m      1\u001b[0m \u001b[0ma\u001b[0m \u001b[0;34m=\u001b[0m \u001b[0;36m3.0\u001b[0m\u001b[0;34m\u001b[0m\u001b[0m\n\u001b[1;32m      2\u001b[0m \u001b[0mtype\u001b[0m\u001b[0;34m(\u001b[0m\u001b[0ma\u001b[0m\u001b[0;34m)\u001b[0m \u001b[0;31m# Et pourquoi pas un entier ? Expliquez.\u001b[0m\u001b[0;34m\u001b[0m\u001b[0m\n\u001b[0;32m----> 3\u001b[0;31m \u001b[0mnom_de_fichier\u001b[0m \u001b[0;34m*\u001b[0m \u001b[0ma\u001b[0m \u001b[0;31m# ne fonctionne pas car a n'est pas un entier.\u001b[0m\u001b[0;34m\u001b[0m\u001b[0m\n\u001b[0m",
        "\u001b[0;31mTypeError\u001b[0m: can't multiply sequence by non-int of type 'float'"
       ]
      }
     ],
     "prompt_number": 35
    },
    {
     "cell_type": "code",
     "collapsed": false,
     "input": [
      "nom_de_fichier * int(a) # en convertissant a en entier \u00e7a fonctionne "
     ],
     "language": "python",
     "metadata": {},
     "outputs": [
      {
       "metadata": {},
       "output_type": "pyout",
       "prompt_number": 36,
       "text": [
        "'refGenerefGenerefGene'"
       ]
      }
     ],
     "prompt_number": 36
    },
    {
     "cell_type": "markdown",
     "metadata": {},
     "source": [
      "On peut aussi utiliser la fonction **print()** pour afficher le contenu d'une\n",
      "ou plusieurs variables."
     ]
    },
    {
     "cell_type": "code",
     "collapsed": false,
     "input": [
      " print(c)"
     ],
     "language": "python",
     "metadata": {},
     "outputs": [
      {
       "output_type": "stream",
       "stream": "stdout",
       "text": [
        "12.0\n"
       ]
      }
     ],
     "prompt_number": 38
    },
    {
     "cell_type": "code",
     "collapsed": false,
     "input": [
      "print(nom_complet) "
     ],
     "language": "python",
     "metadata": {},
     "outputs": [
      {
       "output_type": "stream",
       "stream": "stdout",
       "text": [
        "refGene.txt\n"
       ]
      }
     ],
     "prompt_number": 39
    },
    {
     "cell_type": "code",
     "collapsed": false,
     "input": [
      "# La commande print() peut traiter une liste de variables\n",
      "x = 'alfred'\n",
      "y = 'sarah'\n",
      "z = 'm\u00e9lanie'\n",
      "print(x,y,z)"
     ],
     "language": "python",
     "metadata": {},
     "outputs": [
      {
       "output_type": "stream",
       "stream": "stdout",
       "text": [
        "alfred sarah m\u00e9lanie\n"
       ]
      }
     ],
     "prompt_number": 40
    },
    {
     "cell_type": "code",
     "collapsed": false,
     "input": [
      "# La liste peut contenir des variables de types diff\u00e9rents\n",
      "print(c, nom_de_fichier, c, 2, 2.0)"
     ],
     "language": "python",
     "metadata": {},
     "outputs": [
      {
       "output_type": "stream",
       "stream": "stdout",
       "text": [
        "12.0 refGene 12.0 2 2.0\n"
       ]
      }
     ],
     "prompt_number": 41
    },
    {
     "cell_type": "markdown",
     "metadata": {},
     "source": [
      "Pour les textes sur plusieurs lignes, on utilisera une 'docstring', en\n",
      "marquant le d\u00e9but et la fin par des triplets de guillemets"
     ]
    },
    {
     "cell_type": "code",
     "collapsed": false,
     "input": [
      "phrase = \"\"\"Ceci\n",
      "est une phrase\n",
      "sur plusieurs lignes\n",
      "\"\"\"\n",
      "\n",
      "print(phrase)"
     ],
     "language": "python",
     "metadata": {},
     "outputs": [
      {
       "output_type": "stream",
       "stream": "stdout",
       "text": [
        "Ceci\n",
        "est une phrase\n",
        "sur plusieurs lignes\n",
        "\n"
       ]
      }
     ],
     "prompt_number": 42
    },
    {
     "cell_type": "markdown",
     "metadata": {},
     "source": [
      "<div class=\"exo\">\n",
      "\n",
      "Effectuez les exercices suivants:\n",
      "\n",
      "-   Cr\u00e9ez une variable <span class=\"variable\">repetition</span> qui\n",
      "    contiendra un motif compos\u00e9 d'un triplet du sous-motif TTG suivis\n",
      "    d'une occurrence de AAA. Ce motif sera r\u00e9p\u00e9t\u00e9 100 fois.\n",
      "    (TTGTTGTTGAAATTGTTGTTGAAATTGTTGTTGAAA...)\n",
      "\n",
      "</div>\n",
      "\n",
      "**Solution**"
     ]
    },
    {
     "cell_type": "code",
     "collapsed": false,
     "input": [
      "(\"TTG\" * 3 + \"AAA\" ) * 100"
     ],
     "language": "python",
     "metadata": {},
     "outputs": [
      {
       "metadata": {},
       "output_type": "pyout",
       "prompt_number": 43,
       "text": [
        "'TTGTTGTTGAAATTGTTGTTGAAATTGTTGTTGAAATTGTTGTTGAAATTGTTGTTGAAATTGTTGTTGAAATTGTTGTTGAAATTGTTGTTGAAATTGTTGTTGAAATTGTTGTTGAAATTGTTGTTGAAATTGTTGTTGAAATTGTTGTTGAAATTGTTGTTGAAATTGTTGTTGAAATTGTTGTTGAAATTGTTGTTGAAATTGTTGTTGAAATTGTTGTTGAAATTGTTGTTGAAATTGTTGTTGAAATTGTTGTTGAAATTGTTGTTGAAATTGTTGTTGAAATTGTTGTTGAAATTGTTGTTGAAATTGTTGTTGAAATTGTTGTTGAAATTGTTGTTGAAATTGTTGTTGAAATTGTTGTTGAAATTGTTGTTGAAATTGTTGTTGAAATTGTTGTTGAAATTGTTGTTGAAATTGTTGTTGAAATTGTTGTTGAAATTGTTGTTGAAATTGTTGTTGAAATTGTTGTTGAAATTGTTGTTGAAATTGTTGTTGAAATTGTTGTTGAAATTGTTGTTGAAATTGTTGTTGAAATTGTTGTTGAAATTGTTGTTGAAATTGTTGTTGAAATTGTTGTTGAAATTGTTGTTGAAATTGTTGTTGAAATTGTTGTTGAAATTGTTGTTGAAATTGTTGTTGAAATTGTTGTTGAAATTGTTGTTGAAATTGTTGTTGAAATTGTTGTTGAAATTGTTGTTGAAATTGTTGTTGAAATTGTTGTTGAAATTGTTGTTGAAATTGTTGTTGAAATTGTTGTTGAAATTGTTGTTGAAATTGTTGTTGAAATTGTTGTTGAAATTGTTGTTGAAATTGTTGTTGAAATTGTTGTTGAAATTGTTGTTGAAATTGTTGTTGAAATTGTTGTTGAAATTGTTGTTGAAATTGTTGTTGAAATTGTTGTTGAAATTGTTGTTGAAATTGTTGTTGAAATTGTTGTTGAAATTGTTGTTGAAATTGTTGTTGAAATTGTTGTTGAAATTGTTGTTGAAATTGTTGTTGAAATTGTTGTTGAAATTGTTGTTGAAATTGTTGTTGAAATTGTTGTTGAAATTGTTGTTGAAATTGTTGTTGAAATTGTTGTTGAAATTGTTGTTGAAATTGTTGTTGAAATTGTTGTTGAAATTGTTGTTGAAATTGTTGTTGAAATTGTTGTTGAAATTGTTGTTGAAATTGTTGTTGAAATTGTTGTTGAAA'"
       ]
      }
     ],
     "prompt_number": 43
    },
    {
     "cell_type": "markdown",
     "metadata": {},
     "source": [
      "### Note \u00e0 propos des conversions (\"coercition\", \"cast\" en anglais)\n",
      "\n",
      "Python permet d'effectuer un certain nombre de **conversions entre types\n",
      "de variables** (comme vu pr\u00e9c\u00e9demment avec **str())**. Un certain nombre\n",
      "d'exemples sont montr\u00e9s ci-dessous qui illustrent les comportements des\n",
      "fonctions de conversion en fonction des types qui sont entr\u00e9s en\n",
      "param\u00e8tres.\n",
      "\n",
      "Copiez collez les instructions suivantes une ligne apr\u00e8s l'autre dans\n",
      "l'interpr\u00e9teur.\n"
     ]
    },
    {
     "cell_type": "code",
     "collapsed": false,
     "input": [
      "####################################\n",
      "### Coercition \u00e0 partir d'un entier\n",
      "####################################\n",
      "a = 2\n",
      "float(a)  # Vaut 2.0\n",
      "str(a)    # Vaut '2' . Les guillemets indiquent que c'est une cha\u00eene de caract\u00e8res.\n",
      "\n",
      "####################################\n",
      "### Coercition \u00e0 partir d'un r\u00e9el\n",
      "####################################\n",
      "a=2.9\n",
      "int(a)        # Vaut 2. Seule la partie enti\u00e8re est pr\u00e9serv\u00e9e\n",
      "str(a)        # Vaut '2.9'. Les guillemets indiquent que c'est une cha\u00eene de caract\u00e8res.\n",
      "\n",
      "#####################################################\n",
      "### Coercition partir d'une cha\u00eene de caract\u00e8res\n",
      "#####################################################\n",
      "int(\"2\")        # Vaut 2. Fonctionne\n",
      "float(\"2.9\")    # Vaut 2.9. Fonctionne\n",
      "float(\"1.3e-3\") # Vaut 0.0013. Fonctionne\n",
      "\n",
      "# La coercition vers des nombres suppose une cha\u00eene de caract\u00e8res compatibble avec des nombres.\n",
      "# int(\"A\")     # Erreur. Cette transformation est impossible.\n",
      "# float(\"A\")   # Erreur. Cette transformation est impossible.\n",
      "# Les deux instructions pr\u00e9c\u00e9dentes retournent des erreurs, car\n",
      "# la cha\u00eene de caract\u00e8re \"A\" ne peut pas \u00eatre interpr\u00e9t\u00e9e comme\n",
      "# un nombre.\n",
      "\n",
      "#int(\"2.9\")   # Erreur : cette cha\u00eene de caract\u00e8re ne peut pas \u00eatre convertie en entier\n",
      "float(\"2.9\") # Ici, \u00e7a marche\n",
      "int(float(\"2.9\")) # Ca fonctionne. "
     ],
     "language": "python",
     "metadata": {},
     "outputs": [
      {
       "metadata": {},
       "output_type": "pyout",
       "prompt_number": 46,
       "text": [
        "2"
       ]
      }
     ],
     "prompt_number": 46
    },
    {
     "cell_type": "markdown",
     "metadata": {},
     "source": [
      "Le dernier exemple peut sembler \u00e9tonnant: la conversion de \"2.9\" en\n",
      "entier ne fonctionne pas, mais la double coercition fonctionne parce que\n",
      "le r\u00e9sultat de la premi\u00e8re conversion fournir une variable de type\n",
      "float, de de valeur 2.9, qui peut \u00eatre convertie en variable enti\u00e8re (la\n",
      "coercicion de fload \u00e0 int a pour effet de tronquer les d\u00e9cimales).\n",
      "\n",
      "### Variables bool\u00e9ennes\n",
      "\n",
      "Une variable bool\u00e9enne est une variable \u00e0 deux \u00e9tats: vrai ou faux. En\n",
      "python une variable bool\u00e9enne pourra prendre la valeur **True** ou\n",
      "**False**. Nous reviendrons sur ces variables dans les TD suivant lors\n",
      "de la pr\u00e9sentation des structures conditionnelles.\n",
      "\n",
      "Copiez collez les instructions suivantes une ligne apr\u00e8s l'autre dans\n",
      "l'interpr\u00e9teur.\n",
      "\n"
     ]
    },
    {
     "cell_type": "code",
     "collapsed": false,
     "input": [
      "d = True\n",
      "c = False\n",
      "\n",
      "# On peut ensuite effectuer des op\u00e9rations logiques entre variables Booleennes\n",
      "d\n",
      "not d\n",
      "not c\n",
      "d and c\n",
      "d or c\n",
      "d and (not c)"
     ],
     "language": "python",
     "metadata": {},
     "outputs": [
      {
       "metadata": {},
       "output_type": "pyout",
       "prompt_number": 48,
       "text": [
        "True"
       ]
      }
     ],
     "prompt_number": 48
    },
    {
     "cell_type": "markdown",
     "metadata": {},
     "source": [
      "### Noms r\u00e9serv\u00e9s\n",
      "\n",
      "**Attention:** certains noms sont r\u00e9serv\u00e9s en Python. Cela signifie que\n",
      "vous ne pouvez pas les utiliser comme noms de variables. La liste des\n",
      "noms r\u00e9serv\u00e9s peut \u00eatre trouv\u00e9e\n",
      "[ici](http://docs.python.org/release/2.5.4/ref/keywords.html).\n"
     ]
    },
    {
     "cell_type": "code",
     "collapsed": false,
     "input": [
      "# La commande suivante ne fonctionnent pas, car elle utilise un mot r\u00e9serv\u00e9.\n",
      "# les mots r\u00e9serv\u00e9s (and, if, ...) ont un sens particulier en\n",
      "# Python, on n'a donc pas le droit de les utiliser comme noms de\n",
      "# variables.\n",
      "\n",
      "and = \"et\""
     ],
     "language": "python",
     "metadata": {},
     "outputs": [
      {
       "ename": "SyntaxError",
       "evalue": "invalid syntax (<ipython-input-49-89d152a17f27>, line 6)",
       "output_type": "pyerr",
       "traceback": [
        "\u001b[0;36m  File \u001b[0;32m\"<ipython-input-49-89d152a17f27>\"\u001b[0;36m, line \u001b[0;32m6\u001b[0m\n\u001b[0;31m    and = \"et\"\u001b[0m\n\u001b[0m      ^\u001b[0m\n\u001b[0;31mSyntaxError\u001b[0m\u001b[0;31m:\u001b[0m invalid syntax\n"
       ]
      }
     ],
     "prompt_number": 49
    },
    {
     "cell_type": "markdown",
     "metadata": {},
     "source": [
      "\n",
      "[\\[Retour \u00e0 la table des mati\u00e8res\\]](#contenu)\n",
      "\n",
      "------------------------------------------------------------------------\n",
      "\n",
      "En Python, les variables sont associ\u00e9es \u00e0 des m\u00e9thodes\n",
      "------------------------------------------------------\n",
      "\n",
      "Les variables dans python sont en fait des objets associ\u00e9s \u00e0 des\n",
      "m\u00e9thodes (nous reverrons cela en d\u00e9tail plus tard). Cela signifie que,\n",
      "suivant la classe de l'objet (*e.g* un entier, une cha\u00eene de caract\u00e8res,\n",
      "...) un certain nombre de proc\u00e9dures sp\u00e9cifiques peuvent \u00eatres\n",
      "appliqu\u00e9es en appelant la m\u00e9thode correspondante.\n",
      "\n",
      "Tapez le code suivant dans l'interpr\u00e9teur python\n"
     ]
    },
    {
     "cell_type": "code",
     "collapsed": false,
     "input": [
      "dna=\"ATACTAGAATTCGATAGGTGGTAAAACCCG\"\n",
      "\n",
      "# De quoi s'agit-il ? \n",
      "type(dna)"
     ],
     "language": "python",
     "metadata": {},
     "outputs": [
      {
       "metadata": {},
       "output_type": "pyout",
       "prompt_number": 50,
       "text": [
        "str"
       ]
      }
     ],
     "prompt_number": 50
    },
    {
     "cell_type": "code",
     "collapsed": false,
     "input": [
      "# Cherchons de l'aide sur la classe str (string)\n",
      "\n",
      "# help(str)\n",
      "\n",
      "# Tapez q pour quitter l'aide.\n",
      "\n",
      "# Notez la vari\u00e9t\u00e9 de m\u00e9thodes disponibles.\n",
      "\n",
      "## Pour sortir de l'aide, tapez la touche 'q'\n",
      "\n",
      "# Notez que les m\u00e9thodes entour\u00e9es de tirets soulign\u00e9s\n",
      "# (\"__method__\") doivent \u00eatre utilis\u00e9es comme indiqu\u00e9.\n",
      "#\n",
      "# x.__len__() <==> len(x) signifie que l'on \u00e9crira \n",
      "len(dna)"
     ],
     "language": "python",
     "metadata": {},
     "outputs": [
      {
       "metadata": {},
       "output_type": "pyout",
       "prompt_number": 52,
       "text": [
        "30"
       ]
      }
     ],
     "prompt_number": 52
    },
    {
     "cell_type": "code",
     "collapsed": false,
     "input": [
      "# et non pas \n",
      "dna.__len__()\n",
      "# qui bien que fonctionnelle est moins lisible."
     ],
     "language": "python",
     "metadata": {},
     "outputs": [
      {
       "metadata": {},
       "output_type": "pyout",
       "prompt_number": 53,
       "text": [
        "30"
       ]
      }
     ],
     "prompt_number": 53
    },
    {
     "cell_type": "code",
     "collapsed": false,
     "input": [
      "# Toutes les autres m\u00e9thodes (sans tirets soulign\u00e9s) sont \u00e0\n",
      "# utiliser en suffixant la variable d'un \".\" suivi du nom de la\n",
      "# m\u00e9thode.\n",
      "\n",
      "# Exemple: convertir la s\u00e9quence d'ADN en minuscules\n",
      "dna.lower()"
     ],
     "language": "python",
     "metadata": {},
     "outputs": [
      {
       "metadata": {},
       "output_type": "pyout",
       "prompt_number": 54,
       "text": [
        "'atactagaattcgataggtggtaaaacccg'"
       ]
      }
     ],
     "prompt_number": 54
    },
    {
     "cell_type": "markdown",
     "metadata": {},
     "source": [
      "<div class=\"exo\">\n",
      "\n",
      "Consultez l'aide sur la classe **str**. En utilisant les m\u00e9thodes\n",
      "disponibles, r\u00e9pondez au question suivantes:\n",
      "\n",
      "-   Quelle est la taille de la cha\u00eene de caract\u00e8res stock\u00e9e dans la\n",
      "    variable <span class=\"variable\">dna</span> ?\n",
      "-   Est-ce que la cha\u00eene de caract\u00e8re dna se termine par CCG ? (utilisez\n",
      "    une m\u00e9thode qui r\u00e9pond directement \u00e0 cette question)\n",
      "-   Est-ce que la cha\u00eene contient un site de reconnaissance pour\n",
      "    EcoR1 \"GAATTC\". A quelle position ?\n",
      "-   Transformez le site ecoR1 en site BglII (\"AGATCT\").\n",
      "-   Transformez le site BglII par une succession (n = 3) de site ecoR1\n",
      "    et BglII (\"AGATCT\").\n",
      "-   Transformez la cha\u00eene en minuscules.\n",
      "\n",
      "</div>"
     ]
    },
    {
     "cell_type": "code",
     "collapsed": false,
     "input": [
      "len(dna)"
     ],
     "language": "python",
     "metadata": {},
     "outputs": [
      {
       "metadata": {},
       "output_type": "pyout",
       "prompt_number": 56,
       "text": [
        "30"
       ]
      }
     ],
     "prompt_number": 56
    },
    {
     "cell_type": "code",
     "collapsed": false,
     "input": [
      "dna.endswith(\"CCG\")"
     ],
     "language": "python",
     "metadata": {},
     "outputs": [
      {
       "metadata": {},
       "output_type": "pyout",
       "prompt_number": 57,
       "text": [
        "True"
       ]
      }
     ],
     "prompt_number": 57
    },
    {
     "cell_type": "code",
     "collapsed": false,
     "input": [
      "dna.find(\"GAATTC\") # On commence \u00e0 compter \u00e0 1 ou \u00e0 0 ?"
     ],
     "language": "python",
     "metadata": {},
     "outputs": [
      {
       "metadata": {},
       "output_type": "pyout",
       "prompt_number": 58,
       "text": [
        "6"
       ]
      }
     ],
     "prompt_number": 58
    },
    {
     "cell_type": "code",
     "collapsed": false,
     "input": [
      "dna = dna.replace(\"GAATTC\", \"AGATCT\") # Attention il faut '\u00e9craser' la variable dna.\n",
      "print(dna)"
     ],
     "language": "python",
     "metadata": {},
     "outputs": [
      {
       "output_type": "stream",
       "stream": "stdout",
       "text": [
        "ATACTAAGATCTGATAGGTGGTAAAACCCG\n"
       ]
      }
     ],
     "prompt_number": 59
    },
    {
     "cell_type": "code",
     "collapsed": false,
     "input": [
      "dna = dna.replace(\"AGATCT\", (\"GAATTC\" + \"AGATCT\") * 3) # succession de ecoR1 et BglII\n",
      "print(dna)"
     ],
     "language": "python",
     "metadata": {},
     "outputs": [
      {
       "output_type": "stream",
       "stream": "stdout",
       "text": [
        "ATACTAGAATTCAGATCTGAATTCAGATCTGAATTCAGATCTGATAGGTGGTAAAACCCG\n"
       ]
      }
     ],
     "prompt_number": 60
    },
    {
     "cell_type": "code",
     "collapsed": false,
     "input": [
      "print(dna.lower())"
     ],
     "language": "python",
     "metadata": {},
     "outputs": [
      {
       "output_type": "stream",
       "stream": "stdout",
       "text": [
        "atactagaattcagatctgaattcagatctgaattcagatctgataggtggtaaaacccg\n"
       ]
      }
     ],
     "prompt_number": 62
    },
    {
     "cell_type": "markdown",
     "metadata": {},
     "source": [
      "[\\[Retour \u00e0 la table des mati\u00e8res\\]](#contenu)\n",
      "\n",
      "------------------------------------------------------------------------\n",
      "\n",
      "Listes et tuples\n",
      "----------------\n",
      "\n",
      "### Listes\n",
      "\n",
      "Une liste peut \u00eatre vue comme un tableau qui permet de stocker des\n",
      "objets.\n",
      "\n",
      "#### Cr\u00e9ation et indexation des listes"
     ]
    },
    {
     "cell_type": "code",
     "collapsed": false,
     "input": [
      "############################\n",
      "### Cr\u00e9er une liste vide ###\n",
      "############################\n",
      "ma_liste = list() # or ma_liste = []\n",
      "len(ma_liste) # contient 0 \u00e9l\u00e9ments"
     ],
     "language": "python",
     "metadata": {},
     "outputs": [
      {
       "metadata": {},
       "output_type": "pyout",
       "prompt_number": 63,
       "text": [
        "0"
       ]
      }
     ],
     "prompt_number": 63
    },
    {
     "cell_type": "code",
     "collapsed": false,
     "input": [
      "################################################################################################\n",
      "### Cr\u00e9er une liste contenant un ensemble d'\u00e9l\u00e9ments pr\u00e9-d\u00e9finis (ici des symboles de g\u00e8nes) ###\n",
      "################################################################################################\n",
      "liste_de_genes = [\"CD3E\", \"CD4\", \"CD8\", \"CD5\", \"ZAP70\", \"ITK\", \"LAT\",\"VAV1\",\"CD3G\",\"TCRA\"]\n",
      "liste_de_genes"
     ],
     "language": "python",
     "metadata": {},
     "outputs": [
      {
       "metadata": {},
       "output_type": "pyout",
       "prompt_number": 64,
       "text": [
        "['CD3E', 'CD4', 'CD8', 'CD5', 'ZAP70', 'ITK', 'LAT', 'VAV1', 'CD3G', 'TCRA']"
       ]
      }
     ],
     "prompt_number": 64
    },
    {
     "cell_type": "code",
     "collapsed": false,
     "input": [
      "##########################################################\n",
      "### Extraire un sous ensemble par index.\n",
      "##########################################################\n",
      "\n",
      "# Notez qu'on commence \u00e0 la position 0\n",
      "liste_de_genes[0]"
     ],
     "language": "python",
     "metadata": {},
     "outputs": [
      {
       "metadata": {},
       "output_type": "pyout",
       "prompt_number": 67,
       "text": [
        "'CD3E'"
       ]
      }
     ],
     "prompt_number": 67
    },
    {
     "cell_type": "code",
     "collapsed": false,
     "input": [
      "liste_de_genes[1]"
     ],
     "language": "python",
     "metadata": {},
     "outputs": [
      {
       "metadata": {},
       "output_type": "pyout",
       "prompt_number": 66,
       "text": [
        "'CD4'"
       ]
      }
     ],
     "prompt_number": 66
    },
    {
     "cell_type": "code",
     "collapsed": false,
     "input": [
      "# Indexer depuis la fin\n",
      "liste_de_genes[-1]"
     ],
     "language": "python",
     "metadata": {},
     "outputs": [
      {
       "metadata": {},
       "output_type": "pyout",
       "prompt_number": 68,
       "text": [
        "'TCRA'"
       ]
      }
     ],
     "prompt_number": 68
    },
    {
     "cell_type": "code",
     "collapsed": false,
     "input": [
      "liste_de_genes[-2]"
     ],
     "language": "python",
     "metadata": {},
     "outputs": [
      {
       "metadata": {},
       "output_type": "pyout",
       "prompt_number": 69,
       "text": [
        "'CD3G'"
       ]
      }
     ],
     "prompt_number": 69
    },
    {
     "cell_type": "code",
     "collapsed": false,
     "input": [
      "# Prendre une 'tranche' (slice) de cette liste \n",
      "# liste_de_genes[d\u00e9but:fin] # de  d\u00e9but \u00e0 fin-1\n",
      "liste_de_genes[0:2]"
     ],
     "language": "python",
     "metadata": {},
     "outputs": [
      {
       "metadata": {},
       "output_type": "pyout",
       "prompt_number": 70,
       "text": [
        "['CD3E', 'CD4']"
       ]
      }
     ],
     "prompt_number": 70
    },
    {
     "cell_type": "code",
     "collapsed": false,
     "input": [
      "liste_de_genes[0:5]"
     ],
     "language": "python",
     "metadata": {},
     "outputs": [
      {
       "metadata": {},
       "output_type": "pyout",
       "prompt_number": 71,
       "text": [
        "['CD3E', 'CD4', 'CD8', 'CD5', 'ZAP70']"
       ]
      }
     ],
     "prompt_number": 71
    },
    {
     "cell_type": "code",
     "collapsed": false,
     "input": [
      "# Extraire les derniers \u00e9l\u00e9ments d'une liste\n",
      "# liste_de_genes[d\u00e9but:] # de d\u00e9but jusqu'\u00e0 la fin\n",
      "liste_de_genes[1:]"
     ],
     "language": "python",
     "metadata": {},
     "outputs": [
      {
       "metadata": {},
       "output_type": "pyout",
       "prompt_number": 72,
       "text": [
        "['CD4', 'CD8', 'CD5', 'ZAP70', 'ITK', 'LAT', 'VAV1', 'CD3G', 'TCRA']"
       ]
      }
     ],
     "prompt_number": 72
    },
    {
     "cell_type": "code",
     "collapsed": false,
     "input": [
      "liste_de_genes[5:]"
     ],
     "language": "python",
     "metadata": {},
     "outputs": [
      {
       "metadata": {},
       "output_type": "pyout",
       "prompt_number": 73,
       "text": [
        "['ITK', 'LAT', 'VAV1', 'CD3G', 'TCRA']"
       ]
      }
     ],
     "prompt_number": 73
    },
    {
     "cell_type": "code",
     "collapsed": false,
     "input": [
      "# Extraire les premiers \u00e9l\u00e9ments d'une liste\n",
      "# liste_de_genes[:fin] # De la premi\u00e8re position jusqu'\u00e0 fin-1  \n",
      "liste_de_genes[:4]"
     ],
     "language": "python",
     "metadata": {},
     "outputs": [
      {
       "metadata": {},
       "output_type": "pyout",
       "prompt_number": 74,
       "text": [
        "['CD3E', 'CD4', 'CD8', 'CD5']"
       ]
      }
     ],
     "prompt_number": 74
    },
    {
     "cell_type": "code",
     "collapsed": false,
     "input": [
      "# Sp\u00e9cifier l'incr\u00e9ment (le \"pas\") d'un parcours de liste.\n",
      "# liste_de_genes[d\u00e9but:fin:p] # de d\u00e9but \u00e0 fin-1 par incr\u00e9ment de p\n",
      "liste_de_genes[0:10:2] "
     ],
     "language": "python",
     "metadata": {},
     "outputs": [
      {
       "metadata": {},
       "output_type": "pyout",
       "prompt_number": 75,
       "text": [
        "['CD3E', 'CD8', 'ZAP70', 'LAT', 'CD3G']"
       ]
      }
     ],
     "prompt_number": 75
    },
    {
     "cell_type": "code",
     "collapsed": false,
     "input": [
      "liste_de_genes[0::2] # liste_de_genes[0:10:2]"
     ],
     "language": "python",
     "metadata": {},
     "outputs": [
      {
       "metadata": {},
       "output_type": "pyout",
       "prompt_number": 76,
       "text": [
        "['CD3E', 'CD8', 'ZAP70', 'LAT', 'CD3G']"
       ]
      }
     ],
     "prompt_number": 76
    },
    {
     "cell_type": "code",
     "collapsed": false,
     "input": [
      "liste_de_genes[::-1] # La liste \u00e0 l'envers"
     ],
     "language": "python",
     "metadata": {},
     "outputs": [
      {
       "metadata": {},
       "output_type": "pyout",
       "prompt_number": 77,
       "text": [
        "['TCRA', 'CD3G', 'VAV1', 'LAT', 'ITK', 'ZAP70', 'CD5', 'CD8', 'CD4', 'CD3E']"
       ]
      }
     ],
     "prompt_number": 77
    },
    {
     "cell_type": "code",
     "collapsed": false,
     "input": [
      "########################################\n",
      "### Changer les \u00e9l\u00e9ments d'une liste ###\n",
      "########################################\n",
      "liste_de_genes[5:] = ['CD52','SATB1']\n",
      "print(liste_de_genes)"
     ],
     "language": "python",
     "metadata": {},
     "outputs": [
      {
       "output_type": "stream",
       "stream": "stdout",
       "text": [
        "['CD3E', 'CD4', 'CD8', 'CD5', 'ZAP70', 'CD52', 'SATB1']\n"
       ]
      }
     ],
     "prompt_number": 78
    },
    {
     "cell_type": "code",
     "collapsed": false,
     "input": [
      "# Note: nous venons de changer la longueur de la liste, en\n",
      "# rempla\u00e7ant les 5 derniers \u00e9l\u00e9ments d'une liste de 10 \u00e9l\u00e9ments\n",
      "# par une nouvelle liste de 2 \u00e9l\u00e9ments\n",
      "len(liste_de_genes)"
     ],
     "language": "python",
     "metadata": {},
     "outputs": [
      {
       "metadata": {},
       "output_type": "pyout",
       "prompt_number": 79,
       "text": [
        "7"
       ]
      }
     ],
     "prompt_number": 79
    },
    {
     "cell_type": "code",
     "collapsed": false,
     "input": [
      "####################################################\n",
      "### Notez qu'une cha\u00eene de caract\u00e8re peut \u00eatre   ###\n",
      "### consid\u00e9r\u00e9e comme une liste dont les \u00e9lements ###\n",
      "### ne peuvent \u00eatre modifi\u00e9s.                    ###\n",
      "####################################################\n",
      "dna[3:]\n"
     ],
     "language": "python",
     "metadata": {},
     "outputs": [
      {
       "metadata": {},
       "output_type": "pyout",
       "prompt_number": 80,
       "text": [
        "'CTAGAATTCAGATCTGAATTCAGATCTGAATTCAGATCTGATAGGTGGTAAAACCCG'"
       ]
      }
     ],
     "prompt_number": 80
    },
    {
     "cell_type": "code",
     "collapsed": false,
     "input": [
      "dna[::-1] # Qu'obtenez-vous en utilisant un incr\u00e9ment de -1?"
     ],
     "language": "python",
     "metadata": {},
     "outputs": [
      {
       "metadata": {},
       "output_type": "pyout",
       "prompt_number": 81,
       "text": [
        "'GCCCAAAATGGTGGATAGTCTAGACTTAAGTCTAGACTTAAGTCTAGACTTAAGATCATA'"
       ]
      }
     ],
     "prompt_number": 81
    },
    {
     "cell_type": "code",
     "collapsed": false,
     "input": [
      "dna[25:]= 'TTTTT' # que dit le message d'erreur ?"
     ],
     "language": "python",
     "metadata": {},
     "outputs": [
      {
       "ename": "TypeError",
       "evalue": "'str' object does not support item assignment",
       "output_type": "pyerr",
       "traceback": [
        "\u001b[0;31m---------------------------------------------------------------------------\u001b[0m\n\u001b[0;31mTypeError\u001b[0m                                 Traceback (most recent call last)",
        "\u001b[0;32m<ipython-input-82-1553c4fb384a>\u001b[0m in \u001b[0;36m<module>\u001b[0;34m()\u001b[0m\n\u001b[0;32m----> 1\u001b[0;31m \u001b[0mdna\u001b[0m\u001b[0;34m[\u001b[0m\u001b[0;36m25\u001b[0m\u001b[0;34m:\u001b[0m\u001b[0;34m]\u001b[0m\u001b[0;34m=\u001b[0m \u001b[0;34m'TTTTT'\u001b[0m \u001b[0;31m# que dit le message d'erreur ?\u001b[0m\u001b[0;34m\u001b[0m\u001b[0m\n\u001b[0m",
        "\u001b[0;31mTypeError\u001b[0m: 'str' object does not support item assignment"
       ]
      }
     ],
     "prompt_number": 82
    },
    {
     "cell_type": "markdown",
     "metadata": {},
     "source": [
      "#### M\u00e9thodes pour les listes\n",
      "\n",
      "Comme tout objet, les listes ont un ensemble de m\u00e9thodes associ\u00e9es.\n",
      "Copiez collez les instructions suivantes dans l'interpr\u00e9teur IPython."
     ]
    },
    {
     "cell_type": "code",
     "collapsed": false,
     "input": [
      "########################################\n",
      "#### Get help about the class 'list' ###\n",
      "########################################\n",
      "# help(list)\n",
      "# q pour quitter\n",
      "\n",
      "########################################\n",
      "### Quelques m\u00e9thodes classiques    ####\n",
      "######################################## \n",
      "len(liste_de_genes)             # Nombre d'\u00e9l\u00e9ments\n",
      "liste_de_genes + liste_de_genes # Concat\u00e9ner deux listes\n",
      "'LAT' in liste_de_genes         # Est-ce que cet \u00e9l\u00e9ment est contenu dans ma liste\n",
      "del liste_de_genes[5]           # D\u00e9l\u00e9ter le 6\u00e8me \u00e9l\u00e9ment ('ITK')\n",
      "liste_de_genes*3                # Concat\u00e9ner 3 fois la liste\n",
      "liste_de_genes.append('BCL2')   # Ajouter BCL2 \u00e0 la fin de la liste \n",
      "liste_de_genes\n",
      "liste_de_genes.count('CD3E')    # Compter le nombre d'occurrences de 'CD3E'\n",
      "gene = liste_de_genes.pop(2)    # D\u00e9l\u00e9ter et renvoyer le 3\u00e8me \u00e9l\u00e9ment de la liste (CD8)\n",
      "gene \n",
      "liste_de_genes.sort()           # Trier la liste\n",
      "liste_de_genes.sort(reverse=True)\n",
      "liste_de_genes.insert(2,'P53')  # Ins\u00e9rer un \u00e9l\u00e9ment avant une position donn\u00e9e\n",
      "liste_de_genes.remove('P53')    # Delete a given object from the list \n"
     ],
     "language": "python",
     "metadata": {},
     "outputs": [],
     "prompt_number": 83
    },
    {
     "cell_type": "markdown",
     "metadata": {},
     "source": [
      "<div class=\"exo\">\n",
      "\n",
      "Consultez l'aide sur la classe **str**. En utilisant les m\u00e9thodes\n",
      "disponibles, r\u00e9pondez au question suivantes:\n",
      "\n",
      "-   Cr\u00e9ez une liste contenant les cha\u00eenes de caract\u00e8res \"GAATTC\",\n",
      "    \"AGATCT\" et \"GGTGG\".\n",
      "-   Quelle est la taille de cette liste.\n",
      "-   Utilisez l'op\u00e9rateur de multiplication pour cr\u00e9ez une liste\n",
      "    contenant 10 r\u00e9p\u00e9titions de la liste initiale.\n",
      "-   Utilisez la m\u00e9thode sort pour trier cette liste.\n",
      "-   Transformez cette liste en chaine de caract\u00e8res \u00e0 l'aide de la\n",
      "    m\u00e9thode 'join'.\n",
      "\n",
      "</div>"
     ]
    },
    {
     "cell_type": "code",
     "collapsed": false,
     "input": [
      "ma_list = [\"GAATTC\", \"AGATCT\", \"GGTGG\"]\n",
      "ma_list = ma_list * 10\n",
      "ma_list.sort()          # pas besoin d'assigner !\n",
      "ma_chaine = \"\".join(ma_list)\n",
      "print(ma_chaine)"
     ],
     "language": "python",
     "metadata": {},
     "outputs": [
      {
       "output_type": "stream",
       "stream": "stdout",
       "text": [
        "AGATCTAGATCTAGATCTAGATCTAGATCTAGATCTAGATCTAGATCTAGATCTAGATCTGAATTCGAATTCGAATTCGAATTCGAATTCGAATTCGAATTCGAATTCGAATTCGAATTCGGTGGGGTGGGGTGGGGTGGGGTGGGGTGGGGTGGGGTGGGGTGGGGTGG\n"
       ]
      }
     ],
     "prompt_number": 84
    },
    {
     "cell_type": "markdown",
     "metadata": {},
     "source": [
      "### Tuples\n",
      "\n",
      "Les **tuples** sont **tr\u00e8s proches des listes**. Cependant une fois cr\u00e9\u00e9s, ces\n",
      "objets **ne peuvent pas \u00eatre modifi\u00e9s**. Dans la syntaxe python, les listes\n",
      "sont d\u00e9clar\u00e9es en encadrant leurs \u00e9l\u00e9ments de crochets `[ ]`, tandis que\n",
      "les tuples sont encadr\u00e9s par des parenth\u00e8ses `( )`.\n",
      "\n",
      "Copiez collez les instructions suivantes dans l'interpr\u00e9teur IPython."
     ]
    },
    {
     "cell_type": "code",
     "collapsed": false,
     "input": [
      "myTuple=('a','b')\n",
      "myTuple[0]"
     ],
     "language": "python",
     "metadata": {},
     "outputs": [
      {
       "metadata": {},
       "output_type": "pyout",
       "prompt_number": 87,
       "text": [
        "'a'"
       ]
      }
     ],
     "prompt_number": 87
    },
    {
     "cell_type": "code",
     "collapsed": false,
     "input": [
      "myTuple[0]='c' # error. On ne peut pas le modifier !"
     ],
     "language": "python",
     "metadata": {},
     "outputs": [
      {
       "ename": "TypeError",
       "evalue": "'tuple' object does not support item assignment",
       "output_type": "pyerr",
       "traceback": [
        "\u001b[0;31m---------------------------------------------------------------------------\u001b[0m\n\u001b[0;31mTypeError\u001b[0m                                 Traceback (most recent call last)",
        "\u001b[0;32m<ipython-input-86-c06951e96ad7>\u001b[0m in \u001b[0;36m<module>\u001b[0;34m()\u001b[0m\n\u001b[0;32m----> 1\u001b[0;31m \u001b[0mmyTuple\u001b[0m\u001b[0;34m[\u001b[0m\u001b[0;36m0\u001b[0m\u001b[0;34m]\u001b[0m\u001b[0;34m=\u001b[0m\u001b[0;34m'c'\u001b[0m \u001b[0;31m# error. On ne peut pas le modifier !\u001b[0m\u001b[0;34m\u001b[0m\u001b[0m\n\u001b[0m",
        "\u001b[0;31mTypeError\u001b[0m: 'tuple' object does not support item assignment"
       ]
      }
     ],
     "prompt_number": 86
    },
    {
     "cell_type": "markdown",
     "metadata": {},
     "source": [
      "\n",
      "[\\[Retour \u00e0 la table des mati\u00e8res\\]](#contenu)\n",
      "\n",
      "------------------------------------------------------------------------\n",
      "\n",
      "Les dictionnaires\n",
      "-----------------\n",
      "\n",
      "### Un dictionnaire ?\n",
      "\n",
      "Un **dictionnaire** est un tableau permettant de stocker des\n",
      "informations sous la forme **clef -&gt; valeur**. Cet objet est extr\u00eamement\n",
      "utile au m\u00eame titre que la liste. Dans d'autres langages de\n",
      "programmation, le dictionnaire est aussi connnu sous le nom de **hash**,\n",
      "**table de hachage** ou encore **tableau associatif**.\n",
      "\n",
      "Copiez collez les instructions suivantes dans l'interpr\u00e9teur IPython.\n"
     ]
    },
    {
     "cell_type": "code",
     "collapsed": false,
     "input": [
      "#############################################\n",
      "### Cr\u00e9er un dictionnaire vide liste vide ###\n",
      "#############################################\n",
      "codon2AA = {}\n",
      "\n",
      "############################################################\n",
      "### Cr\u00e9er un dictionnaire contenant des clefs et valeurs ###\n",
      "############################################################\n",
      "# Une partie du code g\u00e9n\u00e9tique...\n",
      "codon2AA =  {\"UUU\":\"PHE\", \"UCU\":\"SER\", \"CUU\":\"LEU\",\"AAA\":\"LYS\"}"
     ],
     "language": "python",
     "metadata": {},
     "outputs": [],
     "prompt_number": 89
    },
    {
     "cell_type": "code",
     "collapsed": false,
     "input": [
      "############################################################\n",
      "### R\u00e9cup\u00e9rer une valeur avec une clef                     ###\n",
      "############################################################\n",
      "codon2AA['CUU']"
     ],
     "language": "python",
     "metadata": {},
     "outputs": [
      {
       "metadata": {},
       "output_type": "pyout",
       "prompt_number": 90,
       "text": [
        "'LEU'"
       ]
      }
     ],
     "prompt_number": 90
    },
    {
     "cell_type": "code",
     "collapsed": false,
     "input": [
      "\n",
      "## Si la cl\u00e9 n'a pas \u00e9t\u00e9 d\u00e9finie, Python \u00e9met un message d'erreur\n",
      "codon2AA['ABSENT']"
     ],
     "language": "python",
     "metadata": {},
     "outputs": [
      {
       "ename": "KeyError",
       "evalue": "'ABSENT'",
       "output_type": "pyerr",
       "traceback": [
        "\u001b[0;31m---------------------------------------------------------------------------\u001b[0m\n\u001b[0;31mKeyError\u001b[0m                                  Traceback (most recent call last)",
        "\u001b[0;32m<ipython-input-91-d3d8f8933643>\u001b[0m in \u001b[0;36m<module>\u001b[0;34m()\u001b[0m\n\u001b[1;32m      1\u001b[0m \u001b[0;34m\u001b[0m\u001b[0m\n\u001b[1;32m      2\u001b[0m \u001b[0;31m## Si la cl\u00e9 n'a pas \u00e9t\u00e9 d\u00e9finie, Python \u00e9met un message d'erreur\u001b[0m\u001b[0;34m\u001b[0m\u001b[0;34m\u001b[0m\u001b[0m\n\u001b[0;32m----> 3\u001b[0;31m \u001b[0mcodon2AA\u001b[0m\u001b[0;34m[\u001b[0m\u001b[0;34m'ABSENT'\u001b[0m\u001b[0;34m]\u001b[0m\u001b[0;34m\u001b[0m\u001b[0m\n\u001b[0m",
        "\u001b[0;31mKeyError\u001b[0m: 'ABSENT'"
       ]
      }
     ],
     "prompt_number": 91
    },
    {
     "cell_type": "code",
     "collapsed": false,
     "input": [
      "\n",
      "##########################################\n",
      "### Ajouter une paire clef -> valeur   ###\n",
      "##########################################\n",
      "codon2AA['ACA'] = \"THR\"\n",
      "codon2AA['AUG'] = \"START\"\n",
      "codon2AA\n"
     ],
     "language": "python",
     "metadata": {},
     "outputs": [
      {
       "metadata": {},
       "output_type": "pyout",
       "prompt_number": 92,
       "text": [
        "{'AUG': 'START',\n",
        " 'UCU': 'SER',\n",
        " 'ACA': 'THR',\n",
        " 'CUU': 'LEU',\n",
        " 'AAA': 'LYS',\n",
        " 'UUU': 'PHE'}"
       ]
      }
     ],
     "prompt_number": 92
    },
    {
     "cell_type": "code",
     "collapsed": false,
     "input": [
      "\n",
      "##########################################\n",
      "### D\u00e9l\u00e9ter un \u00e9l\u00e9ments                ###\n",
      "##########################################\n",
      "## del d\u00e9l\u00e8te une paire clef valeur\n",
      "del codon2AA[\"AUG\"]\n",
      "codon2AA"
     ],
     "language": "python",
     "metadata": {},
     "outputs": [
      {
       "metadata": {},
       "output_type": "pyout",
       "prompt_number": 93,
       "text": [
        "{'UCU': 'SER', 'ACA': 'THR', 'CUU': 'LEU', 'AAA': 'LYS', 'UUU': 'PHE'}"
       ]
      }
     ],
     "prompt_number": 93
    },
    {
     "cell_type": "code",
     "collapsed": false,
     "input": [
      "##########################################\n",
      "### Tester si une clef existe          ###\n",
      "##########################################\n",
      "'ACA' in codon2AA\n"
     ],
     "language": "python",
     "metadata": {},
     "outputs": [
      {
       "metadata": {},
       "output_type": "pyout",
       "prompt_number": 94,
       "text": [
        "True"
       ]
      }
     ],
     "prompt_number": 94
    },
    {
     "cell_type": "code",
     "collapsed": false,
     "input": [
      "if 'ACA' in codon2AA:\n",
      "    print(\"Oui\")"
     ],
     "language": "python",
     "metadata": {},
     "outputs": [
      {
       "output_type": "stream",
       "stream": "stdout",
       "text": [
        "Oui\n"
       ]
      }
     ],
     "prompt_number": 95
    },
    {
     "cell_type": "markdown",
     "metadata": {},
     "source": [
      "[\\[Retour \u00e0 la table des mati\u00e8res\\]](#contenu)\n",
      "\n",
      "------------------------------------------------------------------------\n",
      "\n",
      "Pour aller plus loin\n",
      "--------------------\n",
      "\n",
      "Pour en savoir plus sur les structures de donn\u00e9es en Python, vous pouvez\n",
      "consulter la [documentation\n",
      "Python](https://docs.python.org/3/tutorial/datastructures.html)\n",
      "correspondante. Vous noterez notamment l'existence de **Sets** qui n'ont\n",
      "pas \u00e9t\u00e9 trait\u00e9 ici et qui correspondent \u00e0 des liste ordonn\u00e9es\n",
      "non-redondante. Nous vous laissons les d\u00e9couvrir seuls \u00e0 titre\n",
      "d'exercice.\n",
      "\n",
      "------------------------------------------------------------------------\n"
     ]
    },
    {
     "cell_type": "code",
     "collapsed": false,
     "input": [],
     "language": "python",
     "metadata": {},
     "outputs": []
    }
   ],
   "metadata": {}
  }
 ]
}