{
 "metadata": {
  "name": "",
  "signature": "sha256:b8fc476d8e4e35ed4d65628002a65b50d8b537722faba0da36b5fbcc713cfc9e"
 },
 "nbformat": 3,
 "nbformat_minor": 0,
 "worksheets": [
  {
   "cells": [
    {
     "cell_type": "markdown",
     "metadata": {},
     "source": [
      "*AMU :: Polytech Biotech 3A :: JGB53D :: 2014/2015 :: Jacques van\n",
      "Helden, Denis Puthier, Nicolas Terrapon*\n",
      "\n",
      "Contenu\n",
      "-------\n",
      "\n",
      "Outre les instructions proc\u00e9durales que vous avez d\u00e9couvert lors des\n",
      "sc\u00e9ances pr\u00e9c\u00e9dentes, les langages de programmation vous offrent la\n",
      "possibilit\u00e9 de cr\u00e9er vos propres fonctions. L'int\u00e9r\u00eat d'une fonction est\n",
      "de **regrouper une s\u00e9rie d'instructions que l'on souhaite r\u00e9p\u00e9ter plus\n",
      "d'une fois dans un programme** ou un projet. En rempla\u00e7ant certaines parties de code par un appelle \u00e0 une fonction dont le **nom a \u00e9t\u00e9 judicieusement choisi**, on am\u00e9liore aussi beaucoup la **lisibilit\u00e9 du code**.\n",
      "\n",
      "------------------------------------------------------------------------\n",
      "\n",
      "Fonctions\n",
      "---------\n",
      "\n",
      "### D\u00e9finition et appel\n",
      "\n",
      "La cr\u00e9ation d'une fonction se fait gr\u00e2ce au mot-cl\u00e9 **def**. Celui-ci\n",
      "est suivi du nom de la fonction. On d\u00e9crit ensuite les op\u00e9rations qui\n",
      "doivent \u00eatre effectu\u00e9es par la fonction en marquant l'indentation.\n",
      "Python cr\u00e9e alors un **objet function** portant le nom choisi pour la fonction. Le programme\n",
      "python peut alors ex\u00e9cuter, ou *appeler* cette fonction.\n"
     ]
    },
    {
     "cell_type": "code",
     "collapsed": false,
     "input": [
      "##################################\n",
      "##  Exemple de fonction simple  ##\n",
      "##################################\n",
      "\n",
      "def printHello():\n",
      "    print(\"Hello!\")"
     ],
     "language": "python",
     "metadata": {},
     "outputs": [],
     "prompt_number": 26
    },
    {
     "cell_type": "code",
     "collapsed": false,
     "input": [
      "printHello()"
     ],
     "language": "python",
     "metadata": {},
     "outputs": [
      {
       "output_type": "stream",
       "stream": "stdout",
       "text": [
        "Hello!\n"
       ]
      }
     ],
     "prompt_number": 27
    },
    {
     "cell_type": "code",
     "collapsed": false,
     "input": [
      "##################################\n",
      "##  printHello est un objet     ##\n",
      "## 'function'\n",
      "##################################\n",
      "\n",
      "type(printHello)"
     ],
     "language": "python",
     "metadata": {},
     "outputs": [
      {
       "metadata": {},
       "output_type": "pyout",
       "prompt_number": 28,
       "text": [
        "function"
       ]
      }
     ],
     "prompt_number": 28
    },
    {
     "cell_type": "markdown",
     "metadata": {},
     "source": [
      "### Passage d'arguments\n",
      "\n",
      "Une fonction d\u00e9pendent fr\u00e9quemment de param\u00e8tres, ou *arguments*,\n",
      "n\u00e9cessaires \u00e0 la r\u00e9alisation de la fonction mais qui peuvent varier lors\n",
      "des diff\u00e9rents appels \u00e0 cette fonction. Pour sp\u00e9cifier les arguments\n",
      "d'une fonction, vous devez les lister entre parenth\u00e8ses apr\u00e8s son nom.\n"
     ]
    },
    {
     "cell_type": "code",
     "collapsed": false,
     "input": [
      "############################################\n",
      "##  Exemple de fonctions avec arguments   ##\n",
      "############################################\n",
      "\n",
      "def print_message(mes):\n",
      "    print(\"\\t----| \", str(mes)) \n",
      "\n",
      "print_message(\"Warning !\")\n",
      "print_message(\"File not found.\")\n",
      "print_message(\"File not found.\")\n"
     ],
     "language": "python",
     "metadata": {},
     "outputs": [
      {
       "output_type": "stream",
       "stream": "stdout",
       "text": [
        "\t----|  Warning !\n",
        "\t----|  File not found.\n",
        "\t----|  File not found.\n"
       ]
      }
     ],
     "prompt_number": 29
    },
    {
     "cell_type": "code",
     "collapsed": false,
     "input": [
      "\n",
      "def print_list_with_sep(mes, sep):\n",
      "    print(sep.join(mes))\n",
      "\n",
      "print_list_with_sep([\"a\",\"b\",\"c\"], \",\")\n",
      "print_list_with_sep([\"a\",\"b\",\"c\"], \"||\")\n",
      "print_list_with_sep([\"a\",\"b\",\"c\"], \"\\t\")\n",
      "\n",
      "\n",
      "\n",
      "\n"
     ],
     "language": "python",
     "metadata": {},
     "outputs": [
      {
       "output_type": "stream",
       "stream": "stdout",
       "text": [
        "a,b,c\n",
        "a||b||c\n",
        "a\tb\tc\n"
       ]
      }
     ],
     "prompt_number": 30
    },
    {
     "cell_type": "code",
     "collapsed": false,
     "input": [
      "############################################\n",
      "##  Attention \u00e0 l'ordre des arguments  !  ##\n",
      "############################################\n",
      "\n",
      "# Cette m\u00eame fonction renvoie une erreur quand l'ordre des arguments\n",
      "# est modifi\u00e9.\n",
      "# En effet, le premier argument attendu est une liste, pas une\n",
      "# cha\u00eene de caract\u00e8res. D'o\u00f9 le message d'erreur:\n",
      "# \"'list' object has no attribute 'join'\".\n",
      "# En effet, join ne s'applique qu'\u00e0 une cha\u00eene de \n",
      "# caract\u00e8res.\n",
      "\n",
      "print_list_with_sep(\"\\t\", [\"a\",\"b\",\"c\"])\n",
      "\n"
     ],
     "language": "python",
     "metadata": {},
     "outputs": [
      {
       "ename": "AttributeError",
       "evalue": "'list' object has no attribute 'join'",
       "output_type": "pyerr",
       "traceback": [
        "\u001b[0;31m---------------------------------------------------------------------------\u001b[0m\n\u001b[0;31mAttributeError\u001b[0m                            Traceback (most recent call last)",
        "\u001b[0;32m<ipython-input-31-890633eeab1e>\u001b[0m in \u001b[0;36m<module>\u001b[0;34m()\u001b[0m\n\u001b[1;32m     11\u001b[0m \u001b[0;31m# caract\u00e8res.\u001b[0m\u001b[0;34m\u001b[0m\u001b[0;34m\u001b[0m\u001b[0m\n\u001b[1;32m     12\u001b[0m \u001b[0;34m\u001b[0m\u001b[0m\n\u001b[0;32m---> 13\u001b[0;31m \u001b[0mprint_list_with_sep\u001b[0m\u001b[0;34m(\u001b[0m\u001b[0;34m\"\\t\"\u001b[0m\u001b[0;34m,\u001b[0m \u001b[0;34m[\u001b[0m\u001b[0;34m\"a\"\u001b[0m\u001b[0;34m,\u001b[0m\u001b[0;34m\"b\"\u001b[0m\u001b[0;34m,\u001b[0m\u001b[0;34m\"c\"\u001b[0m\u001b[0;34m]\u001b[0m\u001b[0;34m)\u001b[0m\u001b[0;34m\u001b[0m\u001b[0m\n\u001b[0m\u001b[1;32m     14\u001b[0m \u001b[0;34m\u001b[0m\u001b[0m\n",
        "\u001b[0;32m<ipython-input-30-3ac48d4f7cdc>\u001b[0m in \u001b[0;36mprint_list_with_sep\u001b[0;34m(mes, sep)\u001b[0m\n\u001b[1;32m      1\u001b[0m \u001b[0;34m\u001b[0m\u001b[0m\n\u001b[1;32m      2\u001b[0m \u001b[0;32mdef\u001b[0m \u001b[0mprint_list_with_sep\u001b[0m\u001b[0;34m(\u001b[0m\u001b[0mmes\u001b[0m\u001b[0;34m,\u001b[0m \u001b[0msep\u001b[0m\u001b[0;34m)\u001b[0m\u001b[0;34m:\u001b[0m\u001b[0;34m\u001b[0m\u001b[0m\n\u001b[0;32m----> 3\u001b[0;31m     \u001b[0mprint\u001b[0m\u001b[0;34m(\u001b[0m\u001b[0msep\u001b[0m\u001b[0;34m.\u001b[0m\u001b[0mjoin\u001b[0m\u001b[0;34m(\u001b[0m\u001b[0mmes\u001b[0m\u001b[0;34m)\u001b[0m\u001b[0;34m)\u001b[0m\u001b[0;34m\u001b[0m\u001b[0m\n\u001b[0m\u001b[1;32m      4\u001b[0m \u001b[0;34m\u001b[0m\u001b[0m\n\u001b[1;32m      5\u001b[0m \u001b[0mprint_list_with_sep\u001b[0m\u001b[0;34m(\u001b[0m\u001b[0;34m[\u001b[0m\u001b[0;34m\"a\"\u001b[0m\u001b[0;34m,\u001b[0m\u001b[0;34m\"b\"\u001b[0m\u001b[0;34m,\u001b[0m\u001b[0;34m\"c\"\u001b[0m\u001b[0;34m]\u001b[0m\u001b[0;34m,\u001b[0m \u001b[0;34m\",\"\u001b[0m\u001b[0;34m)\u001b[0m\u001b[0;34m\u001b[0m\u001b[0m\n",
        "\u001b[0;31mAttributeError\u001b[0m: 'list' object has no attribute 'join'"
       ]
      }
     ],
     "prompt_number": 31
    },
    {
     "cell_type": "code",
     "collapsed": false,
     "input": [
      "##############################################\n",
      "##  Choississez judicieusement les noms de  ##\n",
      "## vos fonctions afin d'am\u00e9liorer la        ##\n",
      "## lisibilit\u00e9 de votre code                 ##\n",
      "##############################################\n",
      "# On d\u00e9finie la fonction suivante comportant une expression\n",
      "# r\u00e9guli\u00e8re (dont on sait qu'elles peuvent \u00eatre plus ou moins \n",
      "# lisibles parfois). Ici, la fonction test si la ligne commence\n",
      "# par '>'. On l'utiliserait lors de la lecture d'un fichier fasta.\n",
      "import re\n",
      "def is_fasta_header(string):\n",
      "    \"\"\"Check if the line is a fasta header.\"\"\"\n",
      "    res = re.match(r'^>', string)\n",
      "    return res\n",
      "\n",
      "\n",
      "# Dans le programme une variable doit \u00eatre test\u00e9e,\n",
      "# disons la ligne courante qui peut \u00eatre, dans le cas \n",
      "# d'un fichier fasta, l'ent\u00eate (\">...\") ou la s\u00e9quence.\n",
      "line = \">AI35B34 - gene A\"\n",
      "# Dans le code de notre programme on utilisera une fonction\n",
      "# dont le nom, judicieusement choisi nous rapproche du langage naturel.\n",
      "\n",
      "if is_fasta_header(line):\n",
      "    print_message(\"Lecture de l'ent\u00eate\")\n"
     ],
     "language": "python",
     "metadata": {},
     "outputs": [
      {
       "output_type": "stream",
       "stream": "stdout",
       "text": [
        "\t----|  Lecture de l'ent\u00eate\n"
       ]
      }
     ],
     "prompt_number": 32
    },
    {
     "cell_type": "markdown",
     "metadata": {},
     "source": [
      "### Passage d'arguments par noms\n",
      "Il est tout d'abord possible, lors de l'appel \u00e0 la fonction, de d'utiliser des **noms d'arguments**. Ceci est pratique voire n\u00e9cessaire quand la fonction comporte un nombre relativement important d'arguments. Par ailleurs, il n'est, alors, plus obligatoire de respecter l'ordre \u00e9tabli des arguments. \n",
      "Vous pouvez \u00e9galement sp\u00e9cifier une valeur par d\u00e9fault pour vos arguments. Le passage de ces arguments lors de l'appel de la fonction devient alors facultatif. Finalement, il est possible pour une fonction de recevoir un nombre d'arguments arbitraire: inconnu \u00e0 l'avance et pouvant \u00eatre diff\u00e9rent \u00e0 chaque appel.\n"
     ]
    },
    {
     "cell_type": "code",
     "collapsed": false,
     "input": [
      "###################################\n",
      "##  Exemple d'appel par nom      ##\n",
      "## d'arguments                   ##\n",
      "###################################\n",
      "\n",
      "def printBreakfast(toast, egg, bacon):\n",
      "    print(\"I'll have \", toast, \" toast(s), \", egg, \" egg(s) and \", bacon, \" bacon slice(s).\")\n",
      "\n",
      "printBreakfast(2, 3, 4)\n",
      "printBreakfast(2, bacon=3, egg=4)\n",
      "printBreakfast(egg=2, bacon=3, toast=4)\n"
     ],
     "language": "python",
     "metadata": {},
     "outputs": [
      {
       "output_type": "stream",
       "stream": "stdout",
       "text": [
        "I'll have  2  toast(s),  3  egg(s) and  4  bacon slice(s).\n",
        "I'll have  2  toast(s),  4  egg(s) and  3  bacon slice(s).\n",
        "I'll have  4  toast(s),  2  egg(s) and  3  bacon slice(s).\n"
       ]
      }
     ],
     "prompt_number": 33
    },
    {
     "cell_type": "code",
     "collapsed": false,
     "input": [
      "####################################################\n",
      "##  Exemple d'arguments avec valeurs par d\u00e9fault  ##\n",
      "####################################################\n",
      "\n",
      "def printBreakfast(toast=5, egg=2, bacon=3):\n",
      "    print(\"I'll have \", toast, \" toast(s), \", egg, \" egg(s) and \", bacon, \" bacon slice(s).\")\n",
      "\n",
      "printBreakfast()\n",
      "printBreakfast(4)\n",
      "printBreakfast(4, 10)\n",
      "printBreakfast(bacon=8)\n"
     ],
     "language": "python",
     "metadata": {},
     "outputs": [
      {
       "output_type": "stream",
       "stream": "stdout",
       "text": [
        "I'll have  5  toast(s),  2  egg(s) and  3  bacon slice(s).\n",
        "I'll have  4  toast(s),  2  egg(s) and  3  bacon slice(s).\n",
        "I'll have  4  toast(s),  10  egg(s) and  3  bacon slice(s).\n",
        "I'll have  5  toast(s),  2  egg(s) and  8  bacon slice(s).\n"
       ]
      }
     ],
     "prompt_number": 34
    },
    {
     "cell_type": "markdown",
     "metadata": {},
     "source": [
      "### Variable retour\n",
      "\n",
      "Une fonction est parfois cr\u00e9\u00e9 pour manipuler des donn\u00e9es et r\u00e9aliser des\n",
      "calculs que l'on souhaite r\u00e9utiliser par la suite. Dans ce cas, le\n",
      "simple affichage du r\u00e9sultat ne nous satisfera pas. On peut alors\n",
      "demander \u00e0 la fonction de renvoyer son r\u00e9sultat avec le mot-clef\n",
      "**return**. Lors de l'appel \u00e0 la fonction, ce r\u00e9sultat pourra alors \u00eatre\n",
      "conserver dans une variable (par affectation). Finalement, Python permet\n",
      "de renvoyer plusieurs r\u00e9sultats sous la forme d'un tuple.\n"
     ]
    },
    {
     "cell_type": "code",
     "collapsed": false,
     "input": [
      "###############################################\n",
      "##  Exemple de fonctions avec retour simple  ##\n",
      "###############################################\n",
      "\n",
      "def simple_line_count(a_file):\n",
      "    \"\"\"Count the number of lines in a file.\"\"\"\n",
      "    line_number = 0\n",
      "    for line in a_file:\n",
      "        line_number += 1\n",
      "    a_file.close()\n",
      "    return line_number # ou return(line_nb)"
     ],
     "language": "python",
     "metadata": {},
     "outputs": [],
     "prompt_number": 35
    },
    {
     "cell_type": "code",
     "collapsed": false,
     "input": [
      "##########################################################\n",
      "##  Exemple de fonctions avec retour multiple (tupple)  ##\n",
      "##########################################################\n",
      "\n",
      "def add_substract_multiply_divide(x, y):\n",
      "    return x+y, x-y, x*y, x/y\n",
      "\n",
      "myTuple = add_substract_multiply_divide(4, 2)\n",
      "\n",
      "print(myTuple)\n",
      "\n",
      "a, s, m, d = add_substract_multiply_divide(4, 2)\n",
      "\n",
      "print(a)\n",
      "print(s)\n",
      "print(m)\n",
      "print(d)"
     ],
     "language": "python",
     "metadata": {},
     "outputs": [
      {
       "output_type": "stream",
       "stream": "stdout",
       "text": [
        "(6, 2, 8, 2.0)\n",
        "6\n",
        "2\n",
        "8\n",
        "2.0\n"
       ]
      }
     ],
     "prompt_number": 36
    },
    {
     "cell_type": "markdown",
     "metadata": {},
     "source": [
      "### Port\u00e9e des variables\n",
      "\n",
      "Dans une fonction, toute affectation \u00e0 une variable revient \u00e0 cr\u00e9er une nouvelle variable de port\u00e9e locale (*i.e* connue dans l'environnement d'execution de la fonction mais pas dans l'environnement global)."
     ]
    },
    {
     "cell_type": "code",
     "collapsed": false,
     "input": [
      "##################################\n",
      "##  Exemple de variable locale  ##\n",
      "##################################\n",
      "\n",
      "x = 100\n",
      "\n",
      "def print_x_value():\n",
      "    x = 8 # x est d\u00e9fini localement\n",
      "    print(\"Valeur dans l'environnement de la fonction = \", x)\n",
      "\n",
      "print_x_value()\n",
      "\n",
      "print(\"Valeur dans l'environnement global = \", x)"
     ],
     "language": "python",
     "metadata": {},
     "outputs": [
      {
       "output_type": "stream",
       "stream": "stdout",
       "text": [
        "Valeur dans l'environnement de la fonction =  8\n",
        "Valeur dans l'environnement global =  100\n"
       ]
      }
     ],
     "prompt_number": 25
    },
    {
     "cell_type": "markdown",
     "metadata": {},
     "source": [
      "### R\u00e9utilisation du code\n",
      "\n",
      "Il est souvent conseill\u00e9 d'\u00e9crire un programme sous la forme d'une fonction appel\u00e9e dans le corps du programme. En effet, cela permet \u00e0 terme d'appeler cette m\u00eame fonction depuis un autre programme.\n",
      "Par exemple, pour le programme **cut** que nous avons \u00e9crit (*cf* exercices pratiques), il faudrait mieux \u00e9crire:\n"
     ]
    },
    {
     "cell_type": "code",
     "collapsed": false,
     "input": [
      "# -*- coding: utf-8 -*-\n",
      "# La ligne pr\u00e9c\u00e9dente permet d'utiliser des caract\u00e8res accentu\u00e9s\n",
      "# dans les commentaires\n",
      "\n",
      "\"\"\"\n",
      "    A program that retrieve a column\n",
      "    \"\"\"\n",
      "\n",
      "def cut(file_name=None,         # Le nom du fichier\n",
      "        col_to_print=None,      #Le num\u00e9ro de colonne \u00e0 imprimer\n",
      "        sep=\"\\t\") :             # Le s\u00e9parateur de colonnes\n",
      "\n",
      "\n",
      "    # On ouvre le fichier\n",
      "    # Adaptez le chemin en fonction de la localisation du\n",
      "    # file_handler est un objet 'file'. C'est un objet capable de lire\n",
      "    # les lignes d'un fichier.\n",
      "\n",
      "    file_handler = open(file_name, \"r\")\n",
      "    \n",
      "    # Dans la structure for ci-dessous,\n",
      "    # line est une variable renvoy\u00e9e\n",
      "    # par file_handler. On parcours donc\n",
      "    # le fichier ligne \u00e0 ligne\n",
      "    \n",
      "    for line in file_handler:\n",
      "        \n",
      "        # A chaque it\u00e9ration/ligne,\n",
      "        # On d\u00e9coupe la cha\u00eene de caract\u00e8re\n",
      "        # sur le s\u00e9parateur tabulation (\\t).\n",
      "        column = line.split(sep)\n",
      "        # column[0] si l'on veut la premi\u00e8re colonne\n",
      "        print(column[ col_to_print - 1])\n",
      "\n",
      "\n",
      "if __name__ == \"__main__\":\n",
      "    cut(\"../data/hg38_5k.gtf\", 4)\n"
     ],
     "language": "python",
     "metadata": {},
     "outputs": []
    }
   ],
   "metadata": {}
  }
 ]
}