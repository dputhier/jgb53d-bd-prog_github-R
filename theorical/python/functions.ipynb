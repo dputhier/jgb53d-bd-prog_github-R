{
 "metadata": {
  "name": "",
  "signature": "sha256:b350edfed7e89c8a921dffe6f466cb74805f0493b3248ab87c37a181e2556875"
 },
 "nbformat": 3,
 "nbformat_minor": 0,
 "worksheets": [
  {
   "cells": [
    {
     "cell_type": "markdown",
     "metadata": {},
     "source": [
      "*AMU :: Polytech Biotech 3A :: JGB53D :: 2014/2015 :: Jacques van\n",
      "Helden, Denis Puthier, Nicolas Terrapon*\n",
      "\n",
      "Contenu\n",
      "-------\n",
      "\n",
      "Outre les instructions proc\u00e9durales que vous avez d\u00e9couvert lors des\n",
      "sc\u00e9ances pr\u00e9c\u00e9dentes, les langages de programmation vous offrent la\n",
      "possibilit\u00e9 de cr\u00e9er vos propres fonctions. L'int\u00e9r\u00eat d'une fonction est\n",
      "de **regrouper une s\u00e9rie d'instructions que l'on souhaite r\u00e9p\u00e9ter plus\n",
      "d'une fois dans un programme** ou un projet. En rempla\u00e7ant certaines parties de code par un appelle \u00e0 une fonction dont le **nom a \u00e9t\u00e9 judicieusement choisi**, on am\u00e9liore aussi beaucoup la **lisibilit\u00e9 du code**.\n",
      "\n",
      "------------------------------------------------------------------------\n",
      "\n",
      "Fonctions\n",
      "---------\n",
      "\n",
      "### D\u00e9finition et appel\n",
      "\n",
      "La cr\u00e9ation d'une fonction se fait gr\u00e2ce au mot-cl\u00e9 **def**. Celui-ci\n",
      "est suivi du **nom de la fonction** et du caract\u00e8re **\":\"**. On d\u00e9crit ensuite les op\u00e9rations qui\n",
      "doivent \u00eatre effectu\u00e9es par la fonction en marquant l'indentation.\n",
      "Python cr\u00e9e alors un **objet function** portant le nom choisi pour la fonction. Le programme\n",
      "python peut alors ex\u00e9cuter, ou *appeler* cette fonction.\n"
     ]
    },
    {
     "cell_type": "code",
     "collapsed": false,
     "input": [
      "##################################\n",
      "##  Exemple de fonction simple  ##\n",
      "##################################\n",
      "\n",
      "def print_hello():\n",
      "    print(\"Hello!\")"
     ],
     "language": "python",
     "metadata": {},
     "outputs": [],
     "prompt_number": 13
    },
    {
     "cell_type": "code",
     "collapsed": false,
     "input": [
      "print_hello()"
     ],
     "language": "python",
     "metadata": {},
     "outputs": [
      {
       "output_type": "stream",
       "stream": "stdout",
       "text": [
        "Hello!\n"
       ]
      }
     ],
     "prompt_number": 14
    },
    {
     "cell_type": "code",
     "collapsed": false,
     "input": [
      "##################################\n",
      "##  print_hello est un objet     ##\n",
      "## 'function'\n",
      "##################################\n",
      "\n",
      "type(print_hello)"
     ],
     "language": "python",
     "metadata": {},
     "outputs": [
      {
       "metadata": {},
       "output_type": "pyout",
       "prompt_number": 15,
       "text": [
        "function"
       ]
      }
     ],
     "prompt_number": 15
    },
    {
     "cell_type": "markdown",
     "metadata": {},
     "source": [
      "### Passage d'arguments\n",
      "\n",
      "Une fonction d\u00e9pendent fr\u00e9quemment de param\u00e8tres, ou *arguments*,\n",
      "n\u00e9cessaires \u00e0 la r\u00e9alisation de la fonction mais qui peuvent varier lors\n",
      "des diff\u00e9rents appels \u00e0 cette fonction. Pour sp\u00e9cifier les arguments\n",
      "d'une fonction, vous devez les lister entre parenth\u00e8ses apr\u00e8s son nom.\n"
     ]
    },
    {
     "cell_type": "code",
     "collapsed": false,
     "input": [
      "################################################\n",
      "##  Exemple de fonction simple avec arguments ##\n",
      "################################################\n",
      "\n",
      "def print_hello(n=10): # NOTEZ LE \":\" et le mot clef \"def\"\n",
      "    print(n * \"Hello!\")\n",
      "\n",
      "# Si on appelle print hello sans argument\n",
      "# la cha\u00eene de caracat\u00e8re Hello est imprim\u00e9 10 fois\n",
      "print_hello()\n",
      "\n",
      "# on peut cependant modifier la valeur de l'argument\n",
      "# lors de l'appelle de la fonction. Si on positionne\n",
      "# n sur 5 alors Hello sera imprim\u00e9 5 fois.\n",
      "print_hello(n=5)\n",
      "\n",
      "# On peut \u00e9ventuellement ne pas sp\u00e9cifier le nom de l'argument\n",
      "# (Cf plus bas)\n",
      "print_hello(5)"
     ],
     "language": "python",
     "metadata": {},
     "outputs": [
      {
       "output_type": "stream",
       "stream": "stdout",
       "text": [
        "Hello!Hello!Hello!Hello!Hello!Hello!Hello!Hello!Hello!Hello!\n",
        "Hello!Hello!Hello!Hello!Hello!\n",
        "Hello!Hello!Hello!Hello!Hello!\n"
       ]
      }
     ],
     "prompt_number": 16
    },
    {
     "cell_type": "code",
     "collapsed": false,
     "input": [
      "##################################################\n",
      "##  La fonction peut avoir plusieurs arguments  ##\n",
      "##################################################\n",
      "\n",
      "def print_mot(mot=\"Hello\", n=5):\n",
      "    print(n * mot)\n",
      "\n",
      "print_mot(\"foo\", n=6)"
     ],
     "language": "python",
     "metadata": {},
     "outputs": [
      {
       "output_type": "stream",
       "stream": "stdout",
       "text": [
        "foofoofoofoofoofoo\n"
       ]
      }
     ],
     "prompt_number": 17
    },
    {
     "cell_type": "code",
     "collapsed": false,
     "input": [
      "##############################################\n",
      "##  Choississez judicieusement les noms de  ##\n",
      "## vos fonctions afin d'am\u00e9liorer la        ##\n",
      "## lisibilit\u00e9 de votre code                 ##\n",
      "##############################################\n",
      "# On d\u00e9finie la fonction suivante comportant une expression\n",
      "# r\u00e9guli\u00e8re (dont on sait qu'elles peuvent \u00eatre plus ou moins \n",
      "# lisibles parfois). Ici, la fonction test si la ligne commence\n",
      "# par '>'. On l'utiliserait lors de la lecture d'un fichier fasta.\n",
      "import re\n",
      "def is_fasta_header(string):\n",
      "    \"\"\"Check if the line is a fasta header.\"\"\"\n",
      "    res = re.match(r'^>', string)\n",
      "    return res\n",
      "\n",
      "\n",
      "# Dans le programme une variable doit \u00eatre test\u00e9e,\n",
      "# disons la ligne courante qui peut \u00eatre, dans le cas \n",
      "# d'un fichier fasta, l'ent\u00eate (\">...\") ou la s\u00e9quence.\n",
      "line = \">AI35B34 - gene A\"\n",
      "# Dans le code de notre programme on utilisera une fonction\n",
      "# dont le nom, judicieusement choisi nous rapproche du langage naturel.\n",
      "\n",
      "if is_fasta_header(line):\n",
      "    print(\"Lecture de l'ent\u00eate\")\n"
     ],
     "language": "python",
     "metadata": {},
     "outputs": [
      {
       "output_type": "stream",
       "stream": "stdout",
       "text": [
        "Lecture de l'ent\u00eate\n"
       ]
      }
     ],
     "prompt_number": 18
    },
    {
     "cell_type": "markdown",
     "metadata": {},
     "source": [
      "### Passage d'arguments par noms\n",
      "Il est tout d'abord possible, lors de l'appel \u00e0 la fonction, de d'utiliser des **noms d'arguments**. Ceci est pratique voire n\u00e9cessaire quand la fonction comporte un nombre relativement important d'arguments. Par ailleurs, il n'est, alors, plus obligatoire de respecter l'ordre \u00e9tabli des arguments. \n",
      "Vous pouvez \u00e9galement sp\u00e9cifier une valeur par d\u00e9fault pour vos arguments. Le passage de ces arguments lors de l'appel de la fonction devient alors facultatif. Finalement, il est possible pour une fonction de recevoir un nombre d'arguments arbitraire: inconnu \u00e0 l'avance et pouvant \u00eatre diff\u00e9rent \u00e0 chaque appel.\n"
     ]
    },
    {
     "cell_type": "code",
     "collapsed": false,
     "input": [
      "###################################\n",
      "##  Exemple d'appel par nom      ##\n",
      "## d'arguments                   ##\n",
      "###################################\n",
      "\n",
      "def print_mot(mot=\"foo\", n=10, sep=\"-\"):\n",
      "      print(sep.join(n * [mot]))\n",
      "\n",
      "####################################################\n",
      "##  Exemple d'appel avec valeurs par d\u00e9fault      ##\n",
      "####################################################\n",
      "# Renvoie la m\u00eame chose que \n",
      "print_mot() \n",
      "\n",
      "print_mot(mot=\"foo\", n=10, sep=\"-\")\n",
      "\n",
      "####################################################\n",
      "##  En modifiant les arguments                    ##\n",
      "####################################################\n",
      "\n",
      "print_mot(mot=\"bla\", n=3, sep=\"/\")\n",
      "print_mot(mot=\"bar\", n=5, sep=\"|\")\n",
      "\n",
      "####################################################\n",
      "##  En modifiant la position des arguments        ##\n",
      "####################################################\n",
      "# on change la position des arguments en les nommant\n",
      "print_mot(n=3, mot=\"bla\", sep=\"/\")\n",
      "\n",
      "# \u00e9quivalent \u00e0 print_mot(mot=\"bla\", n=3, sep=\"/\")\n",
      "print_mot(mot=\"bla\", n=3, sep=\"/\")\n",
      "\n",
      "# \u00e9quivalent aussi \u00e0 print_mot(3,\"bla\", \"/\")\n",
      "print_mot(\"bla\", 3, \"/\")"
     ],
     "language": "python",
     "metadata": {},
     "outputs": [
      {
       "output_type": "stream",
       "stream": "stdout",
       "text": [
        "foo-foo-foo-foo-foo-foo-foo-foo-foo-foo\n",
        "foo-foo-foo-foo-foo-foo-foo-foo-foo-foo\n",
        "bla/bla/bla\n",
        "bar|bar|bar|bar|bar\n",
        "bla/bla/bla\n",
        "bla/bla/bla\n",
        "bla/bla/bla\n"
       ]
      }
     ],
     "prompt_number": 19
    },
    {
     "cell_type": "code",
     "collapsed": false,
     "input": [
      "# attention, si les arguments ne sont pas\n",
      "# nomm\u00e9s on ne pourra pas les mettre \n",
      "# dans n'importe quel ordre.\n",
      "# Ici, l'instruction renvoie une erreur.\n",
      "\n",
      "print_mot(3, \"bla\", \"/\") # on ne peut pas multiplier une list par un str."
     ],
     "language": "python",
     "metadata": {},
     "outputs": [
      {
       "ename": "TypeError",
       "evalue": "can't multiply sequence by non-int of type 'list'",
       "output_type": "pyerr",
       "traceback": [
        "\u001b[0;31m---------------------------------------------------------------------------\u001b[0m\n\u001b[0;31mTypeError\u001b[0m                                 Traceback (most recent call last)",
        "\u001b[0;32m<ipython-input-20-49dce2073ffc>\u001b[0m in \u001b[0;36m<module>\u001b[0;34m()\u001b[0m\n\u001b[1;32m      4\u001b[0m \u001b[0;31m# Ici, l'instruction renvoie une erreur.\u001b[0m\u001b[0;34m\u001b[0m\u001b[0;34m\u001b[0m\u001b[0m\n\u001b[1;32m      5\u001b[0m \u001b[0;34m\u001b[0m\u001b[0m\n\u001b[0;32m----> 6\u001b[0;31m \u001b[0mprint_mot\u001b[0m\u001b[0;34m(\u001b[0m\u001b[0;36m3\u001b[0m\u001b[0;34m,\u001b[0m \u001b[0;34m\"bla\"\u001b[0m\u001b[0;34m,\u001b[0m \u001b[0;34m\"/\"\u001b[0m\u001b[0;34m)\u001b[0m \u001b[0;31m# on ne peut pas multiplier une list par un str.\u001b[0m\u001b[0;34m\u001b[0m\u001b[0m\n\u001b[0m",
        "\u001b[0;32m<ipython-input-19-c0d3599a092a>\u001b[0m in \u001b[0;36mprint_mot\u001b[0;34m(mot, n, sep)\u001b[0m\n\u001b[1;32m      5\u001b[0m \u001b[0;34m\u001b[0m\u001b[0m\n\u001b[1;32m      6\u001b[0m \u001b[0;32mdef\u001b[0m \u001b[0mprint_mot\u001b[0m\u001b[0;34m(\u001b[0m\u001b[0mmot\u001b[0m\u001b[0;34m=\u001b[0m\u001b[0;34m\"foo\"\u001b[0m\u001b[0;34m,\u001b[0m \u001b[0mn\u001b[0m\u001b[0;34m=\u001b[0m\u001b[0;36m10\u001b[0m\u001b[0;34m,\u001b[0m \u001b[0msep\u001b[0m\u001b[0;34m=\u001b[0m\u001b[0;34m\"-\"\u001b[0m\u001b[0;34m)\u001b[0m\u001b[0;34m:\u001b[0m\u001b[0;34m\u001b[0m\u001b[0m\n\u001b[0;32m----> 7\u001b[0;31m       \u001b[0mprint\u001b[0m\u001b[0;34m(\u001b[0m\u001b[0msep\u001b[0m\u001b[0;34m.\u001b[0m\u001b[0mjoin\u001b[0m\u001b[0;34m(\u001b[0m\u001b[0mn\u001b[0m \u001b[0;34m*\u001b[0m \u001b[0;34m[\u001b[0m\u001b[0mmot\u001b[0m\u001b[0;34m]\u001b[0m\u001b[0;34m)\u001b[0m\u001b[0;34m)\u001b[0m\u001b[0;34m\u001b[0m\u001b[0m\n\u001b[0m\u001b[1;32m      8\u001b[0m \u001b[0;34m\u001b[0m\u001b[0m\n\u001b[1;32m      9\u001b[0m \u001b[0;31m####################################################\u001b[0m\u001b[0;34m\u001b[0m\u001b[0;34m\u001b[0m\u001b[0m\n",
        "\u001b[0;31mTypeError\u001b[0m: can't multiply sequence by non-int of type 'list'"
       ]
      }
     ],
     "prompt_number": 20
    },
    {
     "cell_type": "markdown",
     "metadata": {},
     "source": [
      "### Variable retour\n",
      "\n",
      "Une fonction est parfois cr\u00e9\u00e9 pour manipuler des donn\u00e9es et r\u00e9aliser des\n",
      "calculs que l'on souhaite r\u00e9utiliser par la suite. Dans ce cas, le\n",
      "simple affichage du r\u00e9sultat ne nous satisfera pas. On peut alors\n",
      "demander \u00e0 la fonction de renvoyer son r\u00e9sultat avec le mot-clef\n",
      "**return**. Lors de l'appel \u00e0 la fonction, ce r\u00e9sultat pourra alors \u00eatre\n",
      "conserver dans une variable (par affectation). Finalement, Python permet\n",
      "de renvoyer plusieurs r\u00e9sultats sous la forme d'un tuple.\n"
     ]
    },
    {
     "cell_type": "code",
     "collapsed": false,
     "input": [
      "###############################################\n",
      "##  Exemple de fonctions avec retour simple  ##\n",
      "###############################################\n",
      "\n",
      "\n",
      "def return_mot(mot=\"foo\", n=10, sep=\"-\"):\n",
      "      return(sep.join(n * [mot])) # on substitue print par return\n",
      "\n",
      "# Le r\u00e9sultat est renvoy\u00e9 \u00e0 l'\u00e9cran\n",
      "return_mot()\n",
      "\n",
      "# Cependant, le r\u00e9sultat peut \u00eatre renvoy\u00e9 et stock\u00e9 dans un variable\n",
      "# Cette variable pourra \u00eatre utilis\u00e9 par la suite.\n",
      "a = return_mot()\n",
      "\n",
      "# Ici, le contenu est stock\u00e9 dans a\n",
      "print(a)"
     ],
     "language": "python",
     "metadata": {},
     "outputs": [
      {
       "output_type": "stream",
       "stream": "stdout",
       "text": [
        "foo-foo-foo-foo-foo-foo-foo-foo-foo-foo\n"
       ]
      }
     ],
     "prompt_number": 21
    },
    {
     "cell_type": "code",
     "collapsed": false,
     "input": [
      "###############################################\n",
      "##  Exemple de fonctions avec renvoie        ##\n",
      "## de plusieurs objets                       ##\n",
      "###############################################\n",
      "# Si la fonction renvoie plusieurs objects\n",
      "# ceux si seront renvoy\u00e9s par d\u00e9faut sous la forme d'un tuple\n",
      "\n",
      "def return_mot(mot=\"foo\", n=10, sep=\"-\"):\n",
      "      var_1 = sep.join(n * [mot])     # on multiplie mot n fois avec le s\u00e9parateur sep\n",
      "      var_2 = sep.join([mot, str(n)]) # on renvoie n et mot s\u00e9par\u00e9s par sep\n",
      "      return var_1, var_2             # on renvoie les deux r\u00e9sultats\n",
      "    \n",
      "a = return_mot()\n",
      "print(type(a))\n",
      "print(a)\n",
      "print(a[0])\n",
      "print(a[1])\n"
     ],
     "language": "python",
     "metadata": {},
     "outputs": [
      {
       "output_type": "stream",
       "stream": "stdout",
       "text": [
        "<class 'tuple'>\n",
        "('foo-foo-foo-foo-foo-foo-foo-foo-foo-foo', 'foo-10')\n",
        "foo-foo-foo-foo-foo-foo-foo-foo-foo-foo\n",
        "foo-10\n"
       ]
      }
     ],
     "prompt_number": 22
    },
    {
     "cell_type": "markdown",
     "metadata": {},
     "source": [
      "### Port\u00e9e des variables\n",
      "\n",
      "Dans une fonction, toute affectation \u00e0 une variable revient \u00e0 cr\u00e9er une nouvelle variable de port\u00e9e locale (*i.e* connue dans l'environnement d'execution de la fonction mais pas dans l'environnement global)."
     ]
    },
    {
     "cell_type": "code",
     "collapsed": false,
     "input": [
      "##################################\n",
      "##  Exemple de variable locale  ##\n",
      "##################################\n",
      "\n",
      "x = 100\n",
      "\n",
      "def print_x_value():\n",
      "    x = 8 # x est d\u00e9fini localement\n",
      "    print(\"Valeur dans l'environnement de la fonction = \", x)\n",
      "\n",
      "print_x_value()\n",
      "\n",
      "print(\"Valeur dans l'environnement global = \", x)"
     ],
     "language": "python",
     "metadata": {},
     "outputs": [
      {
       "output_type": "stream",
       "stream": "stdout",
       "text": [
        "Valeur dans l'environnement de la fonction =  8\n",
        "Valeur dans l'environnement global =  100\n"
       ]
      }
     ],
     "prompt_number": 23
    },
    {
     "cell_type": "markdown",
     "metadata": {},
     "source": [
      "### R\u00e9utilisation du code\n",
      "\n",
      "Il est souvent conseill\u00e9 d'\u00e9crire un programme sous la forme d'une fonction elle m\u00eame appel\u00e9e dans le corps du programme. En effet, cela permet \u00e0 terme d'appeler cette m\u00eame fonction depuis un autre programme.\n",
      "Par exemple, pour le programme **cut** que nous avons \u00e9crit (*cf* exercices pratiques), il faudrait mieux \u00e9crire:\n"
     ]
    },
    {
     "cell_type": "markdown",
     "metadata": {},
     "source": [
      "Ici une structure conditionnelle teste la valeur d'une variable sp\u00e9ciale de Python appel\u00e9e \"__name__\". Si le code est effectu\u00e9 \u00e0 partir du fichier lui m\u00eame (e.g python3 cut.py) la variable vaudra \"__main__\". Si le programme est appel\u00e9 via un \"import\" la variable \"__name__\" prendra comme valeur le nom du fichier."
     ]
    },
    {
     "cell_type": "raw",
     "metadata": {},
     "source": [
      "# -*- coding: utf-8 -*-\n",
      "# La ligne pr\u00e9c\u00e9dente permet d'utiliser des caract\u00e8res accentu\u00e9s\n",
      "# dans les commentaires\n",
      "\n",
      "\"\"\"\n",
      "    A program that retrieve a column\n",
      "\"\"\"\n",
      "\n",
      "def cut(file_name=None,         # Le nom du fichier\n",
      "        col_to_print=None,      #Le num\u00e9ro de colonne \u00e0 imprimer\n",
      "        sep=\"\\t\") :             # Le s\u00e9parateur de colonnes\n",
      "\n",
      "\n",
      "    # On ouvre le fichier\n",
      "    # Adaptez le chemin en fonction de la localisation du\n",
      "    # file_handler est un objet 'file'. C'est un objet capable de lire\n",
      "    # les lignes d'un fichier.\n",
      "\n",
      "    file_handler = open(file_name, \"r\")\n",
      "    \n",
      "    # Dans la structure for ci-dessous,\n",
      "    # line est une variable renvoy\u00e9e\n",
      "    # par file_handler. On parcours donc\n",
      "    # le fichier ligne \u00e0 ligne\n",
      "    \n",
      "    for line in file_handler:\n",
      "        \n",
      "        # A chaque it\u00e9ration/ligne,\n",
      "        # On d\u00e9coupe la cha\u00eene de caract\u00e8re\n",
      "        # sur le s\u00e9parateur tabulation (\\t).\n",
      "        column = line.split(sep)\n",
      "        # column[0] si l'on veut la premi\u00e8re colonne\n",
      "        print(column[ col_to_print - 1])\n",
      "\n",
      "\n",
      "if __name__ == \"__main__\":\n",
      "    cut(\"../data/hg38_5k.gtf\", 4)"
     ]
    }
   ],
   "metadata": {}
  }
 ]
}